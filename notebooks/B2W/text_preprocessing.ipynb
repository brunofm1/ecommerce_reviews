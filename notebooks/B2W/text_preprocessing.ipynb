{
 "cells": [
  {
   "cell_type": "markdown",
   "id": "92902647-2b8a-45e6-a7da-542ab94efcac",
   "metadata": {},
   "source": [
    "Pre processing steps eda"
   ]
  },
  {
   "cell_type": "code",
   "execution_count": 1,
   "id": "c4b33c5f-eaf8-498a-b09c-96a4aece4b4d",
   "metadata": {},
   "outputs": [],
   "source": [
    "from src.Dataloaders.b2w_dataset import B2W\n",
    "from src.text_preprocessing import TextPreprocessing\n",
    "from src.text_representation import *"
   ]
  },
  {
   "cell_type": "code",
   "execution_count": 6,
   "id": "3a997ea3-1f2d-43df-99b8-03a9be2af6a2",
   "metadata": {},
   "outputs": [
    {
     "data": {
      "text/plain": [
       "'/Users/brunogutierrez/workspace/tese'"
      ]
     },
     "execution_count": 6,
     "metadata": {},
     "output_type": "execute_result"
    }
   ],
   "source": [
    "import os \n",
    "\n",
    "os.getcwd()"
   ]
  },
  {
   "cell_type": "code",
   "execution_count": 2,
   "id": "9698e746-a1b6-4aee-b9e7-fdcf4ca5b3dc",
   "metadata": {},
   "outputs": [
    {
     "name": "stdout",
     "output_type": "stream",
     "text": [
      "2023 linhas deletadas por terem menos de 3 palavras\n",
      "2179 linhas deletadas por terem reviews iguais\n"
     ]
    }
   ],
   "source": [
    "b2w = B2W()\n",
    "b2w.pre_process()\n",
    "df = b2w.df"
   ]
  },
  {
   "cell_type": "code",
   "execution_count": null,
   "id": "e82ee84e-c81f-4d96-81db-e45140b9066e",
   "metadata": {},
   "outputs": [],
   "source": []
  },
  {
   "cell_type": "code",
   "execution_count": null,
   "id": "d818b821-f567-4dd0-991b-c9cdb1523c1e",
   "metadata": {},
   "outputs": [],
   "source": []
  },
  {
   "cell_type": "markdown",
   "id": "32fd4978-36ff-4407-9dc6-a7c1b68362cb",
   "metadata": {},
   "source": [
    "NLTK Stopwords\n",
    "\n",
    "Quais stopwords são carregadas do portguês?"
   ]
  },
  {
   "cell_type": "markdown",
   "id": "db30d103-7234-405d-9acc-9435c036ef36",
   "metadata": {},
   "source": [
    "SnowballStemmer\n",
    "\n",
    "Testar stemmetizer."
   ]
  },
  {
   "cell_type": "code",
   "execution_count": 18,
   "id": "8aef98b7-bf8b-46c7-91f8-64a0e525e2fa",
   "metadata": {},
   "outputs": [],
   "source": [
    "prazo = ['prazo', 'entrega', 'atraso', 'rápido', 'antes', 'estipulado', 'data', 'frete',\n",
    "         'tempo', 'ainda', 'chegou', 'demorado', 'rapidez']"
   ]
  },
  {
   "cell_type": "code",
   "execution_count": null,
   "id": "b1a6f5ee-6cad-44d5-b18f-a082d97d4563",
   "metadata": {},
   "outputs": [],
   "source": [
    "snowball = SnowballStemmer(language='portuguese')\n",
    "\n",
    "prazo_stem = [snowball.stem(y) for y in prazo]"
   ]
  },
  {
   "cell_type": "code",
   "execution_count": null,
   "id": "2e2c3f7d-dc63-4131-8d6e-ad5937bfa625",
   "metadata": {},
   "outputs": [],
   "source": [
    "# obs: parece nao funcionar tão bem - rápido e rapidez\n",
    "prazo_stem"
   ]
  }
 ],
 "metadata": {
  "kernelspec": {
   "display_name": "Python 3 (ipykernel)",
   "language": "python",
   "name": "python3"
  },
  "language_info": {
   "codemirror_mode": {
    "name": "ipython",
    "version": 3
   },
   "file_extension": ".py",
   "mimetype": "text/x-python",
   "name": "python",
   "nbconvert_exporter": "python",
   "pygments_lexer": "ipython3",
   "version": "3.8.0"
  }
 },
 "nbformat": 4,
 "nbformat_minor": 5
}
