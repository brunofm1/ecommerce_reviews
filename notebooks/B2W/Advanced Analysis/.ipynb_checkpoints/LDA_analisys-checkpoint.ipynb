{
 "cells": [
  {
   "cell_type": "markdown",
   "id": "fec9fb32-3d41-4c1b-bb9e-dbc19ddeedfe",
   "metadata": {},
   "source": [
    "# Topificação dos comentário usando LDA"
   ]
  },
  {
   "cell_type": "code",
   "execution_count": 1,
   "id": "196fdd89-c65b-42e8-b404-b5f8b994300b",
   "metadata": {},
   "outputs": [
    {
     "data": {
      "text/plain": [
       "'/Users/brunogutierrez/workspace/tese'"
      ]
     },
     "execution_count": 1,
     "metadata": {},
     "output_type": "execute_result"
    }
   ],
   "source": [
    "import os\n",
    "\n",
    "os.getcwd()"
   ]
  },
  {
   "cell_type": "code",
   "execution_count": 2,
   "id": "3ea68907-f33e-413e-9b50-ffd29f70d4c9",
   "metadata": {},
   "outputs": [],
   "source": [
    "# os.chdir('../../../')\n",
    "# os.getcwd()"
   ]
  },
  {
   "cell_type": "markdown",
   "id": "9f9ddc25-6c9c-4b39-9e8c-81f732fa8866",
   "metadata": {},
   "source": [
    "Objetivo:"
   ]
  },
  {
   "cell_type": "code",
   "execution_count": 3,
   "id": "91fafe00-0e17-40d1-b90a-f2052964db82",
   "metadata": {},
   "outputs": [],
   "source": [
    "from sklearn.decomposition import LatentDirichletAllocation"
   ]
  },
  {
   "cell_type": "code",
   "execution_count": 4,
   "id": "db1f63ff-0ee5-4c35-8def-217c9627b783",
   "metadata": {},
   "outputs": [],
   "source": [
    "from src.Dataloaders.b2w_dataset import B2W\n",
    "from src.text_preprocessing import TextPreprocessing\n",
    "from src.text_representation import *"
   ]
  },
  {
   "cell_type": "code",
   "execution_count": 6,
   "id": "646a54b1-c0ef-4002-a7eb-4301b3e4ed13",
   "metadata": {},
   "outputs": [
    {
     "name": "stdout",
     "output_type": "stream",
     "text": [
      "2023 linhas deletadas por terem menos de 3 palavras\n",
      "2179 linhas deletadas por terem reviews iguais\n"
     ]
    },
    {
     "data": {
      "text/plain": [
       "(25620, 16)"
      ]
     },
     "execution_count": 6,
     "metadata": {},
     "output_type": "execute_result"
    }
   ],
   "source": [
    "b2w = B2W()\n",
    "b2w.pre_process()\n",
    "df = b2w.df.sample(frac=0.2).copy()\n",
    "df.shape"
   ]
  },
  {
   "cell_type": "markdown",
   "id": "bd4836d6-d2aa-41d8-876e-cd04e1592767",
   "metadata": {},
   "source": [
    "## Pré Processamento do texto"
   ]
  },
  {
   "cell_type": "code",
   "execution_count": 7,
   "id": "f2c0faf6-982e-43b5-ae46-b4db708d444c",
   "metadata": {},
   "outputs": [
    {
     "name": "stderr",
     "output_type": "stream",
     "text": [
      "[nltk_data] Downloading package stopwords to\n",
      "[nltk_data]     /Users/brunogutierrez/nltk_data...\n",
      "[nltk_data]   Package stopwords is already up-to-date!\n"
     ]
    },
    {
     "name": "stdout",
     "output_type": "stream",
     "text": [
      "<WordListCorpusReader in '/Users/brunogutierrez/nltk_data/corpora/stopwords'>\n"
     ]
    }
   ],
   "source": [
    "text_preprocessor = TextPreprocessing(df, 'full_review')\n",
    "df = text_preprocessor.pre_process()"
   ]
  },
  {
   "cell_type": "code",
   "execution_count": 8,
   "id": "19091921-84ce-4d9f-a24d-b5a4437389d4",
   "metadata": {},
   "outputs": [
    {
     "data": {
      "text/plain": [
       "array(['excelent ador mop sec facil uso facil eficient temh anim ret tod',\n",
       "       'atend necess use ache bom ache cop bem resistent val pen compr ate present moment',\n",
       "       'nao gost cap nao cobr tod piscin apes ter compr medic corret sempr fic lad piscin cobertur'],\n",
       "      dtype=object)"
      ]
     },
     "execution_count": 8,
     "metadata": {},
     "output_type": "execute_result"
    }
   ],
   "source": [
    "df['clean_text'].sample(3).values"
   ]
  },
  {
   "cell_type": "markdown",
   "id": "91ac17a1-01bc-470c-b7f2-d36aa094298e",
   "metadata": {},
   "source": [
    "## TDF word representation"
   ]
  },
  {
   "cell_type": "code",
   "execution_count": 9,
   "id": "21f53f91-2290-4120-a722-c4e21c55327c",
   "metadata": {},
   "outputs": [
    {
     "name": "stdout",
     "output_type": "stream",
     "text": [
      "(25620, 441)\n"
     ]
    }
   ],
   "source": [
    "# max_df=0.95\n",
    "vectorizer_min = TfidfVectorizer(min_df=0.005)\n",
    "x_min = vectorizer_min.fit_transform(df[\"clean_text\"])\n",
    "vocabulary_min = vectorizer_min.get_feature_names_out()\n",
    "print(x_min.shape)"
   ]
  },
  {
   "cell_type": "markdown",
   "id": "40fecdd4-fadd-4899-8bbd-47edc752eb72",
   "metadata": {},
   "source": [
    "## LDA"
   ]
  },
  {
   "cell_type": "code",
   "execution_count": 10,
   "id": "55e082d2-8a4c-47e6-97f3-622eed42b128",
   "metadata": {},
   "outputs": [],
   "source": [
    "lda = LatentDirichletAllocation(n_components=6)"
   ]
  },
  {
   "cell_type": "code",
   "execution_count": 11,
   "id": "4dfd1faa-f160-40d6-a8ac-08e9b29ad494",
   "metadata": {},
   "outputs": [
    {
     "data": {
      "text/html": [
       "<style>#sk-container-id-1 {color: black;background-color: white;}#sk-container-id-1 pre{padding: 0;}#sk-container-id-1 div.sk-toggleable {background-color: white;}#sk-container-id-1 label.sk-toggleable__label {cursor: pointer;display: block;width: 100%;margin-bottom: 0;padding: 0.3em;box-sizing: border-box;text-align: center;}#sk-container-id-1 label.sk-toggleable__label-arrow:before {content: \"▸\";float: left;margin-right: 0.25em;color: #696969;}#sk-container-id-1 label.sk-toggleable__label-arrow:hover:before {color: black;}#sk-container-id-1 div.sk-estimator:hover label.sk-toggleable__label-arrow:before {color: black;}#sk-container-id-1 div.sk-toggleable__content {max-height: 0;max-width: 0;overflow: hidden;text-align: left;background-color: #f0f8ff;}#sk-container-id-1 div.sk-toggleable__content pre {margin: 0.2em;color: black;border-radius: 0.25em;background-color: #f0f8ff;}#sk-container-id-1 input.sk-toggleable__control:checked~div.sk-toggleable__content {max-height: 200px;max-width: 100%;overflow: auto;}#sk-container-id-1 input.sk-toggleable__control:checked~label.sk-toggleable__label-arrow:before {content: \"▾\";}#sk-container-id-1 div.sk-estimator input.sk-toggleable__control:checked~label.sk-toggleable__label {background-color: #d4ebff;}#sk-container-id-1 div.sk-label input.sk-toggleable__control:checked~label.sk-toggleable__label {background-color: #d4ebff;}#sk-container-id-1 input.sk-hidden--visually {border: 0;clip: rect(1px 1px 1px 1px);clip: rect(1px, 1px, 1px, 1px);height: 1px;margin: -1px;overflow: hidden;padding: 0;position: absolute;width: 1px;}#sk-container-id-1 div.sk-estimator {font-family: monospace;background-color: #f0f8ff;border: 1px dotted black;border-radius: 0.25em;box-sizing: border-box;margin-bottom: 0.5em;}#sk-container-id-1 div.sk-estimator:hover {background-color: #d4ebff;}#sk-container-id-1 div.sk-parallel-item::after {content: \"\";width: 100%;border-bottom: 1px solid gray;flex-grow: 1;}#sk-container-id-1 div.sk-label:hover label.sk-toggleable__label {background-color: #d4ebff;}#sk-container-id-1 div.sk-serial::before {content: \"\";position: absolute;border-left: 1px solid gray;box-sizing: border-box;top: 0;bottom: 0;left: 50%;z-index: 0;}#sk-container-id-1 div.sk-serial {display: flex;flex-direction: column;align-items: center;background-color: white;padding-right: 0.2em;padding-left: 0.2em;position: relative;}#sk-container-id-1 div.sk-item {position: relative;z-index: 1;}#sk-container-id-1 div.sk-parallel {display: flex;align-items: stretch;justify-content: center;background-color: white;position: relative;}#sk-container-id-1 div.sk-item::before, #sk-container-id-1 div.sk-parallel-item::before {content: \"\";position: absolute;border-left: 1px solid gray;box-sizing: border-box;top: 0;bottom: 0;left: 50%;z-index: -1;}#sk-container-id-1 div.sk-parallel-item {display: flex;flex-direction: column;z-index: 1;position: relative;background-color: white;}#sk-container-id-1 div.sk-parallel-item:first-child::after {align-self: flex-end;width: 50%;}#sk-container-id-1 div.sk-parallel-item:last-child::after {align-self: flex-start;width: 50%;}#sk-container-id-1 div.sk-parallel-item:only-child::after {width: 0;}#sk-container-id-1 div.sk-dashed-wrapped {border: 1px dashed gray;margin: 0 0.4em 0.5em 0.4em;box-sizing: border-box;padding-bottom: 0.4em;background-color: white;}#sk-container-id-1 div.sk-label label {font-family: monospace;font-weight: bold;display: inline-block;line-height: 1.2em;}#sk-container-id-1 div.sk-label-container {text-align: center;}#sk-container-id-1 div.sk-container {/* jupyter's `normalize.less` sets `[hidden] { display: none; }` but bootstrap.min.css set `[hidden] { display: none !important; }` so we also need the `!important` here to be able to override the default hidden behavior on the sphinx rendered scikit-learn.org. See: https://github.com/scikit-learn/scikit-learn/issues/21755 */display: inline-block !important;position: relative;}#sk-container-id-1 div.sk-text-repr-fallback {display: none;}</style><div id=\"sk-container-id-1\" class=\"sk-top-container\"><div class=\"sk-text-repr-fallback\"><pre>LatentDirichletAllocation(n_components=6)</pre><b>In a Jupyter environment, please rerun this cell to show the HTML representation or trust the notebook. <br />On GitHub, the HTML representation is unable to render, please try loading this page with nbviewer.org.</b></div><div class=\"sk-container\" hidden><div class=\"sk-item\"><div class=\"sk-estimator sk-toggleable\"><input class=\"sk-toggleable__control sk-hidden--visually\" id=\"sk-estimator-id-1\" type=\"checkbox\" checked><label for=\"sk-estimator-id-1\" class=\"sk-toggleable__label sk-toggleable__label-arrow\">LatentDirichletAllocation</label><div class=\"sk-toggleable__content\"><pre>LatentDirichletAllocation(n_components=6)</pre></div></div></div></div></div>"
      ],
      "text/plain": [
       "LatentDirichletAllocation(n_components=6)"
      ]
     },
     "execution_count": 11,
     "metadata": {},
     "output_type": "execute_result"
    }
   ],
   "source": [
    "lda.fit(x_min)"
   ]
  },
  {
   "cell_type": "code",
   "execution_count": 12,
   "id": "69ec04f5-cb9c-4a1e-a44f-80ee623ff30a",
   "metadata": {},
   "outputs": [
    {
     "name": "stdout",
     "output_type": "stream",
     "text": [
      "Topic  0 bom otim excelent cust benefici recom gost qualidad boa val atend bonit prec pen aparelh necess celul pratic tod\n",
      "Topic  1 entreg praz antes otim cheg rap recom excelent bom sup gost qualidad expect perfeit atend ador bem parabens dentr\n",
      "Topic  2 livr compr nao jog gost bom vei tv cor original excelent ja otim duv med recom ok sab marc\n",
      "Topic  3 facil bom nao otim pratic bem excelent gost recom boa pequen fic usar som deix lev qualidad espac pouc\n",
      "Topic  4 nao receb compr ate entreg aind ja pessim cheg vei american defeit agor avali dia dias loj mes nad\n",
      "Topic  5 nao bom gost cumpr pouc promet melhor so esper ache qualidad prec pod compr material fot dev por ruim\n"
     ]
    }
   ],
   "source": [
    "for idx, topic in enumerate(lda.components_):\n",
    "    print (\"Topic \", idx, \" \".join(vocabulary_min[i] for i in topic.argsort()[:-20:-1]))"
   ]
  }
 ],
 "metadata": {
  "kernelspec": {
   "display_name": "Python 3 (ipykernel)",
   "language": "python",
   "name": "python3"
  },
  "language_info": {
   "codemirror_mode": {
    "name": "ipython",
    "version": 3
   },
   "file_extension": ".py",
   "mimetype": "text/x-python",
   "name": "python",
   "nbconvert_exporter": "python",
   "pygments_lexer": "ipython3",
   "version": "3.8.0"
  }
 },
 "nbformat": 4,
 "nbformat_minor": 5
}
