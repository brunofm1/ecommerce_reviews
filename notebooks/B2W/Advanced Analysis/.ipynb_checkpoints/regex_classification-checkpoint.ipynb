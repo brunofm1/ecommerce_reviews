{
 "cells": [
  {
   "cell_type": "markdown",
   "id": "2cba966f-1c2b-4e14-a872-dd8eae9ffd5d",
   "metadata": {},
   "source": [
    "# Classificação com base em Regex"
   ]
  },
  {
   "cell_type": "markdown",
   "id": "f0eb99e4-8acc-4d70-b1a0-6480168d212a",
   "metadata": {},
   "source": [
    "Como baseline, vamos buscar classificar as reviews em classes. Para isso, vamos primeiro identificar qual o tópico do qual a review trata (pode ser mais de um) a partir da identificação de palavaras (regex). \n",
    "\n",
    "Dessa forma, primeiramente foram definidas os seguintes tópicos que uma review pode falar, e as respectivas palavras que identificam esse tópico:"
   ]
  },
  {
   "cell_type": "markdown",
   "id": "3b375c1a-a916-4fdf-b478-f9bf0a5bed98",
   "metadata": {},
   "source": [
    "- Entrega do produto no sentido temporal \n",
    "\n",
    "    ['prazo', 'entrega', 'atraso', 'rápido', 'antes', 'estipulado', 'data', 'frete',\n",
    "         'tempo', 'ainda', 'chegou', 'demorado', 'rapidez']"
   ]
  },
  {
   "cell_type": "markdown",
   "id": "56f71ab3-87c5-4fad-bfad-55569b4550bd",
   "metadata": {},
   "source": [
    "- Estado do produto ao chegar\n",
    "\n",
    "    embalagem = ['danificado', 'embalado', 'lacre', 'rompido', 'estragado', 'quebrado', 'pacote', 'amassado',\n",
    "            'caixa', 'vedada', 'intacto']"
   ]
  },
  {
   "cell_type": "markdown",
   "id": "612c6c70-e37e-4d21-b54e-247dd1e2c4be",
   "metadata": {},
   "source": [
    "- Atendimento da loja\n",
    "\n",
    "    atendimento = ['responder', 'responderam', 'contato', 'retornar', 'explicação', 'reclamação', 'loja', \n",
    "               'vendedor', 'americanas', 'atendimento']"
   ]
  },
  {
   "cell_type": "markdown",
   "id": "dab284ec-0e34-4ca4-9078-d155b08ee321",
   "metadata": {},
   "source": [
    "- qualidade do produto\n",
    "\n",
    "    produto = ['qualidade', 'ótimo', 'perfeito', 'bonito', 'interessante', 'amei', 'pessimo', 'fraco',\n",
    "           'som', 'design', 'benefício', 'funciona', 'excelente', 'regular', 'caro', 'barato', 'preço']"
   ]
  },
  {
   "cell_type": "markdown",
   "id": "43d5f1a7-eb1a-42fe-ba8d-bedbcaf67926",
   "metadata": {},
   "source": [
    "A lista atualizada de palavras que categorizam cada tópico pode ser encontrada na pasta resources. A partir da topificação das reviews podemos definir a classe como sendo a combinação dos tópicos identificados"
   ]
  },
  {
   "cell_type": "code",
   "execution_count": 1,
   "id": "6dda0e62-389a-48b5-a29b-248cdef96f68",
   "metadata": {},
   "outputs": [
    {
     "data": {
      "text/plain": [
       "'/Users/brunogutierrez/workspace/tese'"
      ]
     },
     "execution_count": 1,
     "metadata": {},
     "output_type": "execute_result"
    }
   ],
   "source": [
    "import os\n",
    "\n",
    "os.chdir('../../../')\n",
    "os.getcwd()"
   ]
  },
  {
   "cell_type": "markdown",
   "id": "0b2e91db-0a94-4dd9-bc1b-0d74682ce116",
   "metadata": {},
   "source": [
    "Objetivo: comparar classificação com e sem stemmização"
   ]
  },
  {
   "cell_type": "code",
   "execution_count": 12,
   "id": "941c8019-755a-490c-9461-b014259c7e23",
   "metadata": {},
   "outputs": [],
   "source": [
    "import matplotlib.pyplot as plt\n",
    "import numpy as np\n",
    "import seaborn as sns\n",
    "\n",
    "from src.Dataloaders.b2w_dataset import B2W\n",
    "from src.text_preprocessing import TextPreprocessing\n",
    "from src.text_representation import *\n",
    "from src.regex_review_classification import *"
   ]
  },
  {
   "cell_type": "code",
   "execution_count": 13,
   "id": "7eb09781-6a07-493a-8edf-94700f31433a",
   "metadata": {},
   "outputs": [
    {
     "name": "stdout",
     "output_type": "stream",
     "text": [
      "2023 linhas deletadas por terem menos de 3 palavras\n",
      "2179 linhas deletadas por terem reviews iguais\n",
      "CPU times: user 3.25 s, sys: 513 ms, total: 3.76 s\n",
      "Wall time: 4.77 s\n"
     ]
    }
   ],
   "source": [
    "%%time\n",
    "b2w = B2W()\n",
    "b2w.pre_process()\n",
    "df = b2w.df.sample(frac=0.2)"
   ]
  },
  {
   "cell_type": "markdown",
   "id": "306e686e-8d91-40cd-9a21-d1c913ab84f0",
   "metadata": {},
   "source": [
    "## Pré Processamento do texto"
   ]
  },
  {
   "cell_type": "code",
   "execution_count": 14,
   "id": "8f9a9731-c2b1-4c26-b119-e6b6505f877a",
   "metadata": {},
   "outputs": [],
   "source": [
    "text_preprocessor = TextPreprocessing(df.copy(), 'full_review')\n",
    "text_preprocessor_no_stemming = TextPreprocessing(df.copy(), 'full_review')"
   ]
  },
  {
   "cell_type": "code",
   "execution_count": 15,
   "id": "1d2862c8-a651-4b85-a240-6ca84aa9e47e",
   "metadata": {},
   "outputs": [
    {
     "name": "stderr",
     "output_type": "stream",
     "text": [
      "[nltk_data] Downloading package stopwords to\n",
      "[nltk_data]     /Users/brunogutierrez/nltk_data...\n",
      "[nltk_data]   Package stopwords is already up-to-date!\n"
     ]
    },
    {
     "name": "stdout",
     "output_type": "stream",
     "text": [
      "<WordListCorpusReader in '/Users/brunogutierrez/nltk_data/corpora/stopwords'>\n",
      "<WordListCorpusReader in '/Users/brunogutierrez/nltk_data/corpora/stopwords'>\n",
      "CPU times: user 18.1 s, sys: 180 ms, total: 18.3 s\n",
      "Wall time: 19.9 s\n"
     ]
    },
    {
     "name": "stderr",
     "output_type": "stream",
     "text": [
      "[nltk_data] Downloading package stopwords to\n",
      "[nltk_data]     /Users/brunogutierrez/nltk_data...\n",
      "[nltk_data]   Package stopwords is already up-to-date!\n"
     ]
    }
   ],
   "source": [
    "%%time\n",
    "df_stem = text_preprocessor.pre_process()\n",
    "df = text_preprocessor_no_stemming.pre_process(stemming=False)"
   ]
  },
  {
   "cell_type": "code",
   "execution_count": 16,
   "id": "8e89050d-da56-44d2-899f-ac40c3ae49f0",
   "metadata": {},
   "outputs": [
    {
     "data": {
      "text/plain": [
       "71369     gost super expect bom design bonit facil manus...\n",
       "102753    pen nao pod aspir liqu fal especificaca compr ...\n",
       "96076     parec lix outr avaliaca ja vi entulh obra melh...\n",
       "Name: clean_text, dtype: object"
      ]
     },
     "execution_count": 16,
     "metadata": {},
     "output_type": "execute_result"
    }
   ],
   "source": [
    " df_stem['clean_text'].sample(3)"
   ]
  },
  {
   "cell_type": "code",
   "execution_count": 17,
   "id": "b317c1fa-aafd-4399-88ec-729c952dffef",
   "metadata": {},
   "outputs": [
    {
     "data": {
      "text/plain": [
       "56161    ruim nao gostei achei fininha qualidade nao re...\n",
       "27607    cooktop tudo bom funciona maravilhosamente ent...\n",
       "88970    smartphone lindo funcional celular alem lindo ...\n",
       "Name: clean_text, dtype: object"
      ]
     },
     "execution_count": 17,
     "metadata": {},
     "output_type": "execute_result"
    }
   ],
   "source": [
    " df['clean_text'].sample(3)"
   ]
  },
  {
   "cell_type": "markdown",
   "id": "41a91189-3f72-42e6-9383-a62cf2217df8",
   "metadata": {},
   "source": [
    "### Classificação com base em regex"
   ]
  },
  {
   "cell_type": "markdown",
   "id": "3726a233-ea23-4679-b1f5-120305212e88",
   "metadata": {},
   "source": [
    "Podemos fazer a classificação de cada review a partir da identificação das palavras que denotam cada classe. Podemos fazer usando stemming ou não."
   ]
  },
  {
   "cell_type": "code",
   "execution_count": 18,
   "id": "aaea35dc-94f9-4f5d-b6ee-72a8c822bcdb",
   "metadata": {},
   "outputs": [
    {
     "data": {
      "text/plain": [
       "produto                                7616\n",
       "Nao identificado                       5800\n",
       "produto-prazo                          5031\n",
       "prazo                                  3915\n",
       "atendimento-prazo                       696\n",
       "atendimento-produto-prazo               678\n",
       "atendimento                             431\n",
       "atendimento-produto                     368\n",
       "produto-prazo-embalagem                 293\n",
       "prazo-embalagem                         230\n",
       "produto-embalagem                       191\n",
       "embalagem                               186\n",
       "atendimento-produto-prazo-embalagem      60\n",
       "atendimento-prazo-embalagem              45\n",
       "atendimento-embalagem                    44\n",
       "atendimento-produto-embalagem            36\n",
       "Name: review_class, dtype: int64"
      ]
     },
     "execution_count": 18,
     "metadata": {},
     "output_type": "execute_result"
    }
   ],
   "source": [
    "df = regex_classification(df.copy(), stemming=False)\n",
    "df['review_class'].value_counts()"
   ]
  },
  {
   "cell_type": "code",
   "execution_count": 21,
   "id": "72515459-f7e2-4d22-baed-9b0cad3b38c3",
   "metadata": {},
   "outputs": [
    {
     "data": {
      "text/plain": [
       "40094    excelent comput apos temp uso perceb otim comp...\n",
       "Name: clean_text, dtype: object"
      ]
     },
     "execution_count": 21,
     "metadata": {},
     "output_type": "execute_result"
    }
   ],
   "source": [
    "df_stem['clean_text'].sample()"
   ]
  },
  {
   "cell_type": "code",
   "execution_count": 19,
   "id": "6f7c7383-6c2b-4fa7-9574-69f72d6aabc7",
   "metadata": {},
   "outputs": [
    {
     "data": {
      "text/plain": [
       "produto                                7636\n",
       "produto-prazo                          5621\n",
       "Nao identificado                       3778\n",
       "prazo                                  2797\n",
       "atendimento-produto-prazo              1498\n",
       "atendimento-produto                    1288\n",
       "atendimento                             621\n",
       "atendimento-prazo                       560\n",
       "produto-prazo-embalagem                 532\n",
       "produto-embalagem                       410\n",
       "embalagem                               288\n",
       "prazo-embalagem                         235\n",
       "atendimento-produto-prazo-embalagem     157\n",
       "atendimento-produto-embalagem            91\n",
       "atendimento-embalagem                    55\n",
       "atendimento-prazo-embalagem              53\n",
       "Name: review_class, dtype: int64"
      ]
     },
     "execution_count": 19,
     "metadata": {},
     "output_type": "execute_result"
    }
   ],
   "source": [
    "df_stem = regex_classification(df_stem.copy())\n",
    "df_stem['review_class'].value_counts()"
   ]
  },
  {
   "cell_type": "code",
   "execution_count": null,
   "id": "cdbaa931-08c2-40f4-8172-ac44d9fe2d14",
   "metadata": {},
   "outputs": [],
   "source": []
  },
  {
   "cell_type": "code",
   "execution_count": null,
   "id": "d6519338-2913-4a13-88a6-853158b6f6de",
   "metadata": {},
   "outputs": [
    {
     "data": {
      "text/plain": [
       "array(['otimas e resistentes. ............................................................................................................................',\n",
       "       'produto muito fragil. produto muito fragil, não atende minhas necessidades',\n",
       "       'Livro didático. '], dtype=object)"
      ]
     },
     "execution_count": 11,
     "metadata": {},
     "output_type": "execute_result"
    }
   ],
   "source": [
    "df_s['full_review'].sample(3).values"
   ]
  },
  {
   "cell_type": "code",
   "execution_count": null,
   "id": "9adcb80b-ee36-4cb9-87ab-72f2795ccf7a",
   "metadata": {},
   "outputs": [],
   "source": [
    "snowball = SnowballStemmer(language='portuguese')\n",
    "\n",
    "prazo_stem = [snowball.stem(y) for y in prazo]\n",
    "embalagem_stem = [snowball.stem(y) for y in embalagem]\n",
    "atendimento_stem = [snowball.stem(y) for y in atendimento]\n",
    "produto_stem = [snowball.stem(y) for y in produto]"
   ]
  },
  {
   "cell_type": "code",
   "execution_count": 13,
   "id": "df8d0dfa-7460-4c03-a527-c9fb2fe38568",
   "metadata": {},
   "outputs": [
    {
     "data": {
      "text/plain": [
       "['praz',\n",
       " 'entreg',\n",
       " 'atras',\n",
       " 'rap',\n",
       " 'antes',\n",
       " 'estipul',\n",
       " 'dat',\n",
       " 'fret',\n",
       " 'temp',\n",
       " 'aind',\n",
       " 'cheg',\n",
       " 'demor',\n",
       " 'rapidez']"
      ]
     },
     "execution_count": 73,
     "metadata": {},
     "output_type": "execute_result"
    }
   ],
   "source": [
    "# obs: parece nao funcionar tão bem - rápido e rapidez\n",
    "prazo_stem"
   ]
  },
  {
   "cell_type": "code",
   "execution_count": 18,
   "id": "3d0efd6f-2530-435c-ab59-654f32dffad5",
   "metadata": {},
   "outputs": [
    {
     "data": {
      "text/plain": [
       "prazo_dimension          11508\n",
       "embalagem_dimension       1830\n",
       "atendimento_dimension     1557\n",
       "produto_dimension        16024\n",
       "dtype: int64"
      ]
     },
     "execution_count": 18,
     "metadata": {},
     "output_type": "execute_result"
    }
   ],
   "source": [
    "df[['prazo_dimension', 'embalagem_dimension', \n",
    "    'atendimento_dimension', 'produto_dimension']].sum()"
   ]
  },
  {
   "cell_type": "code",
   "execution_count": 19,
   "id": "7f5318d9-88e0-4601-b75d-1543b80a42f2",
   "metadata": {},
   "outputs": [
    {
     "data": {
      "text/html": [
       "<div>\n",
       "<style scoped>\n",
       "    .dataframe tbody tr th:only-of-type {\n",
       "        vertical-align: middle;\n",
       "    }\n",
       "\n",
       "    .dataframe tbody tr th {\n",
       "        vertical-align: top;\n",
       "    }\n",
       "\n",
       "    .dataframe thead th {\n",
       "        text-align: right;\n",
       "    }\n",
       "</style>\n",
       "<table border=\"1\" class=\"dataframe\">\n",
       "  <thead>\n",
       "    <tr style=\"text-align: right;\">\n",
       "      <th></th>\n",
       "      <th>clean_text</th>\n",
       "      <th>prazo_dimension</th>\n",
       "      <th>embalagem_dimension</th>\n",
       "      <th>atendimento_dimension</th>\n",
       "      <th>produto_dimension</th>\n",
       "    </tr>\n",
       "  </thead>\n",
       "  <tbody>\n",
       "    <tr>\n",
       "      <th>128291</th>\n",
       "      <td>qualidad boa gost produt surpreend qualidad</td>\n",
       "      <td>False</td>\n",
       "      <td>False</td>\n",
       "      <td>False</td>\n",
       "      <td>True</td>\n",
       "    </tr>\n",
       "  </tbody>\n",
       "</table>\n",
       "</div>"
      ],
      "text/plain": [
       "                                         clean_text  prazo_dimension  \\\n",
       "128291  qualidad boa gost produt surpreend qualidad            False   \n",
       "\n",
       "        embalagem_dimension  atendimento_dimension  produto_dimension  \n",
       "128291                False                  False               True  "
      ]
     },
     "execution_count": 19,
     "metadata": {},
     "output_type": "execute_result"
    }
   ],
   "source": [
    "df[['clean_text', 'prazo_dimension', 'embalagem_dimension', \n",
    "    'atendimento_dimension', 'produto_dimension']].sample()"
   ]
  },
  {
   "cell_type": "code",
   "execution_count": 64,
   "id": "cd45e658-507a-437e-800b-a4bf5b06456a",
   "metadata": {},
   "outputs": [
    {
     "data": {
      "text/plain": [
       "111330         Nao identificado\n",
       "122363                  produto\n",
       "103650         Nao identificado\n",
       "17815          Nao identificado\n",
       "32892          Nao identificado\n",
       "                  ...          \n",
       "74039                   produto\n",
       "37263                   produto\n",
       "21628              prazoproduto\n",
       "99943     prazoembalagemproduto\n",
       "89774          Nao identificado\n",
       "Name: dimensao, Length: 26460, dtype: object"
      ]
     },
     "execution_count": 64,
     "metadata": {},
     "output_type": "execute_result"
    }
   ],
   "source": [
    "# criar classes duplas\n",
    "df['dimensao'] = ''\n",
    "\n",
    "dimensoes = ['prazo', 'embalagem', 'atendimento', 'produto']\n",
    "for dim in dimensoes:\n",
    "    \n",
    "    df['dimensao'] = np.where(df[dim+'_dimension'], \n",
    "                              df['dimensao']+ dim, \n",
    "                              df['dimensao'] )\n",
    "\n",
    "df['dimensao'] = df['dimensao'].replace({'': 'Nao identificado'}) \n",
    "df['dimensao']"
   ]
  }
 ],
 "metadata": {
  "kernelspec": {
   "display_name": "Python 3 (ipykernel)",
   "language": "python",
   "name": "python3"
  },
  "language_info": {
   "codemirror_mode": {
    "name": "ipython",
    "version": 3
   },
   "file_extension": ".py",
   "mimetype": "text/x-python",
   "name": "python",
   "nbconvert_exporter": "python",
   "pygments_lexer": "ipython3",
   "version": "3.8.0"
  }
 },
 "nbformat": 4,
 "nbformat_minor": 5
}
