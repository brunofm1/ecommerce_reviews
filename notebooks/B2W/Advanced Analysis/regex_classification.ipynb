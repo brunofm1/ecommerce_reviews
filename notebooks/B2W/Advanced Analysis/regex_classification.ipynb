{
 "cells": [
  {
   "cell_type": "markdown",
   "id": "2cba966f-1c2b-4e14-a872-dd8eae9ffd5d",
   "metadata": {},
   "source": [
    "# Classificação com base em Regex"
   ]
  },
  {
   "cell_type": "markdown",
   "id": "f0eb99e4-8acc-4d70-b1a0-6480168d212a",
   "metadata": {},
   "source": [
    "Como baseline, vamos buscar classificar as reviews em classes. Para isso, vamos primeiro identificar qual o tópico do qual a review trata (pode ser mais de um) a partir da identificação de palavaras (regex). \n",
    "\n",
    "Dessa forma, primeiramente foram definidas os seguintes tópicos que uma review pode falar, e as respectivas palavras que identificam esse tópico:"
   ]
  },
  {
   "cell_type": "markdown",
   "id": "3b375c1a-a916-4fdf-b478-f9bf0a5bed98",
   "metadata": {},
   "source": [
    "- Entrega do produto no sentido temporal \n",
    "\n",
    "    ['prazo', 'entrega', 'atraso', 'rápido', 'antes', 'estipulado', 'data', 'frete',\n",
    "         'tempo', 'ainda', 'chegou', 'demorado', 'rapidez']"
   ]
  },
  {
   "cell_type": "markdown",
   "id": "56f71ab3-87c5-4fad-bfad-55569b4550bd",
   "metadata": {},
   "source": [
    "- Estado do produto ao chegar\n",
    "\n",
    "    embalagem = ['danificado', 'embalado', 'lacre', 'rompido', 'estragado', 'quebrado', 'pacote', 'amassado',\n",
    "            'caixa', 'vedada', 'intacto']"
   ]
  },
  {
   "cell_type": "markdown",
   "id": "612c6c70-e37e-4d21-b54e-247dd1e2c4be",
   "metadata": {},
   "source": [
    "- Atendimento da loja\n",
    "\n",
    "    atendimento = ['responder', 'responderam', 'contato', 'retornar', 'explicação', 'reclamação', 'loja', \n",
    "               'vendedor', 'americanas', 'atendimento']"
   ]
  },
  {
   "cell_type": "markdown",
   "id": "dab284ec-0e34-4ca4-9078-d155b08ee321",
   "metadata": {},
   "source": [
    "- qualidade do produto\n",
    "\n",
    "    produto = ['qualidade', 'ótimo', 'perfeito', 'bonito', 'interessante', 'amei', 'pessimo', 'fraco',\n",
    "           'som', 'design', 'benefício', 'funciona', 'excelente', 'regular', 'caro', 'barato', 'preço']"
   ]
  },
  {
   "cell_type": "markdown",
   "id": "43d5f1a7-eb1a-42fe-ba8d-bedbcaf67926",
   "metadata": {},
   "source": [
    "A lista atualizada de palavras que categorizam cada tópico pode ser encontrada na pasta resources. A partir da topificação das reviews podemos definir a classe como sendo a combinação dos tópicos identificados"
   ]
  },
  {
   "cell_type": "code",
   "execution_count": 1,
   "id": "6dda0e62-389a-48b5-a29b-248cdef96f68",
   "metadata": {},
   "outputs": [
    {
     "data": {
      "text/plain": [
       "'/Users/brunogutierrez/workspace/tese'"
      ]
     },
     "execution_count": 1,
     "metadata": {},
     "output_type": "execute_result"
    }
   ],
   "source": [
    "import os\n",
    "\n",
    "os.chdir('../../../')\n",
    "os.getcwd()"
   ]
  },
  {
   "cell_type": "markdown",
   "id": "0b2e91db-0a94-4dd9-bc1b-0d74682ce116",
   "metadata": {},
   "source": [
    "Objetivo: comparar classificação com e sem stemmização"
   ]
  },
  {
   "cell_type": "code",
   "execution_count": 2,
   "id": "941c8019-755a-490c-9461-b014259c7e23",
   "metadata": {},
   "outputs": [],
   "source": [
    "import matplotlib.pyplot as plt\n",
    "import numpy as np\n",
    "import seaborn as sns\n",
    "\n",
    "from src.Dataloaders.b2w_dataset import B2W\n",
    "from src.text_preprocessing import TextPreprocessing\n",
    "from src.text_representation import *\n",
    "from src.regex_review_classification import *"
   ]
  },
  {
   "cell_type": "code",
   "execution_count": 3,
   "id": "7eb09781-6a07-493a-8edf-94700f31433a",
   "metadata": {},
   "outputs": [
    {
     "name": "stdout",
     "output_type": "stream",
     "text": [
      "2023 linhas deletadas por terem menos de 3 palavras\n",
      "2179 linhas deletadas por terem reviews iguais\n",
      "CPU times: user 3.17 s, sys: 426 ms, total: 3.59 s\n",
      "Wall time: 4.23 s\n"
     ]
    }
   ],
   "source": [
    "%%time\n",
    "b2w = B2W()\n",
    "b2w.pre_process()\n",
    "df = b2w.df.sample(frac=0.2)"
   ]
  },
  {
   "cell_type": "markdown",
   "id": "306e686e-8d91-40cd-9a21-d1c913ab84f0",
   "metadata": {},
   "source": [
    "## Pré Processamento do texto"
   ]
  },
  {
   "cell_type": "code",
   "execution_count": 4,
   "id": "8f9a9731-c2b1-4c26-b119-e6b6505f877a",
   "metadata": {},
   "outputs": [],
   "source": [
    "text_preprocessor = TextPreprocessing(df.copy(), 'full_review')\n",
    "text_preprocessor_no_stemming = TextPreprocessing(df.copy(), 'full_review')"
   ]
  },
  {
   "cell_type": "code",
   "execution_count": 6,
   "id": "1d2862c8-a651-4b85-a240-6ca84aa9e47e",
   "metadata": {},
   "outputs": [
    {
     "name": "stderr",
     "output_type": "stream",
     "text": [
      "[nltk_data] Downloading package stopwords to\n",
      "[nltk_data]     /Users/brunogutierrez/nltk_data...\n",
      "[nltk_data]   Package stopwords is already up-to-date!\n"
     ]
    },
    {
     "name": "stdout",
     "output_type": "stream",
     "text": [
      "CPU times: user 18.4 s, sys: 200 ms, total: 18.6 s\n",
      "Wall time: 20.4 s\n"
     ]
    },
    {
     "name": "stderr",
     "output_type": "stream",
     "text": [
      "[nltk_data] Downloading package stopwords to\n",
      "[nltk_data]     /Users/brunogutierrez/nltk_data...\n",
      "[nltk_data]   Package stopwords is already up-to-date!\n"
     ]
    }
   ],
   "source": [
    "%%time\n",
    "df_stem = text_preprocessor.pre_process()\n",
    "df = text_preprocessor_no_stemming.pre_process(stemming=False)"
   ]
  },
  {
   "cell_type": "code",
   "execution_count": 7,
   "id": "8e89050d-da56-44d2-899f-ac40c3ae49f0",
   "metadata": {},
   "outputs": [
    {
     "data": {
      "text/plain": [
       "35428                  bom gost recomendoentreg bastant rap\n",
       "59432         parabens cheg bem rap original tud cert recom\n",
       "110774    excepcional estad arte softwar escritori tud v...\n",
       "Name: clean_text, dtype: object"
      ]
     },
     "execution_count": 7,
     "metadata": {},
     "output_type": "execute_result"
    }
   ],
   "source": [
    " df_stem['clean_text'].sample(3)"
   ]
  },
  {
   "cell_type": "code",
   "execution_count": 8,
   "id": "b317c1fa-aafd-4399-88ec-729c952dffef",
   "metadata": {},
   "outputs": [
    {
     "data": {
      "text/plain": [
       "97991    tinta magenta nao funcionou completar tanques ...\n",
       "91350    perfeita bom otimo acabamentobbbbbbbbbbbbbbbbb...\n",
       "31436    nao compre marca microondas estragou meses uso...\n",
       "Name: clean_text, dtype: object"
      ]
     },
     "execution_count": 8,
     "metadata": {},
     "output_type": "execute_result"
    }
   ],
   "source": [
    " df['clean_text'].sample(3)"
   ]
  },
  {
   "cell_type": "markdown",
   "id": "41a91189-3f72-42e6-9383-a62cf2217df8",
   "metadata": {},
   "source": [
    "### Classificação com base em regex"
   ]
  },
  {
   "cell_type": "markdown",
   "id": "3726a233-ea23-4679-b1f5-120305212e88",
   "metadata": {},
   "source": [
    "Podemos fazer a classificação de cada review a partir da identificação das palavras que denotam cada classe. Podemos fazer usando stemming ou não."
   ]
  },
  {
   "cell_type": "code",
   "execution_count": 9,
   "id": "9435ec0a-df50-4bea-9c74-9c0fc80f5600",
   "metadata": {},
   "outputs": [
    {
     "data": {
      "text/plain": [
       "412    atrasado encontra atrasado demais ter chegado ...\n",
       "Name: clean_text, dtype: object"
      ]
     },
     "execution_count": 9,
     "metadata": {},
     "output_type": "execute_result"
    }
   ],
   "source": [
    "df['clean_text'].sample()"
   ]
  },
  {
   "cell_type": "code",
   "execution_count": 10,
   "id": "aaea35dc-94f9-4f5d-b6ee-72a8c822bcdb",
   "metadata": {},
   "outputs": [
    {
     "data": {
      "text/plain": [
       "produto                                7565\n",
       "Nao identificado                       5763\n",
       "produto-prazo                          5020\n",
       "prazo                                  3885\n",
       "atendimento-produto-prazo               735\n",
       "atendimento-prazo                       643\n",
       "atendimento                             469\n",
       "atendimento-produto                     421\n",
       "produto-prazo-embalagem                 290\n",
       "prazo-embalagem                         235\n",
       "produto-embalagem                       231\n",
       "embalagem                               191\n",
       "atendimento-produto-prazo-embalagem      61\n",
       "atendimento-prazo-embalagem              50\n",
       "atendimento-embalagem                    37\n",
       "atendimento-produto-embalagem            24\n",
       "Name: review_class, dtype: int64"
      ]
     },
     "execution_count": 10,
     "metadata": {},
     "output_type": "execute_result"
    }
   ],
   "source": [
    "df = regex_classification(df.copy(), stemming=False)\n",
    "df['review_class'].value_counts()"
   ]
  },
  {
   "cell_type": "code",
   "execution_count": 11,
   "id": "72515459-f7e2-4d22-baed-9b0cad3b38c3",
   "metadata": {},
   "outputs": [
    {
     "data": {
      "text/plain": [
       "33655    nao compr variaca prec ness red indecent r vi ...\n",
       "Name: clean_text, dtype: object"
      ]
     },
     "execution_count": 11,
     "metadata": {},
     "output_type": "execute_result"
    }
   ],
   "source": [
    "df_stem['clean_text'].sample()"
   ]
  },
  {
   "cell_type": "code",
   "execution_count": 12,
   "id": "6f7c7383-6c2b-4fa7-9574-69f72d6aabc7",
   "metadata": {},
   "outputs": [
    {
     "data": {
      "text/plain": [
       "produto                                7491\n",
       "produto-prazo                          5565\n",
       "Nao identificado                       3823\n",
       "prazo                                  2777\n",
       "atendimento-produto-prazo              1531\n",
       "atendimento-produto                    1355\n",
       "atendimento                             689\n",
       "atendimento-prazo                       545\n",
       "produto-prazo-embalagem                 521\n",
       "produto-embalagem                       465\n",
       "embalagem                               273\n",
       "prazo-embalagem                         242\n",
       "atendimento-produto-prazo-embalagem     164\n",
       "atendimento-produto-embalagem            82\n",
       "atendimento-prazo-embalagem              51\n",
       "atendimento-embalagem                    46\n",
       "Name: review_class, dtype: int64"
      ]
     },
     "execution_count": 12,
     "metadata": {},
     "output_type": "execute_result"
    }
   ],
   "source": [
    "df_stem = regex_classification(df_stem.copy())\n",
    "df_stem['review_class'].value_counts()"
   ]
  }
 ],
 "metadata": {
  "kernelspec": {
   "display_name": "Python 3 (ipykernel)",
   "language": "python",
   "name": "python3"
  },
  "language_info": {
   "codemirror_mode": {
    "name": "ipython",
    "version": 3
   },
   "file_extension": ".py",
   "mimetype": "text/x-python",
   "name": "python",
   "nbconvert_exporter": "python",
   "pygments_lexer": "ipython3",
   "version": "3.8.0"
  }
 },
 "nbformat": 4,
 "nbformat_minor": 5
}
