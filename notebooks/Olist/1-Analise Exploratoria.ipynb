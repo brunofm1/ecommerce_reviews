{
 "cells": [
  {
   "cell_type": "code",
   "execution_count": 1,
   "id": "cc3618bb-fb61-4ba6-ba91-7eba311152ee",
   "metadata": {},
   "outputs": [
    {
     "data": {
      "text/plain": [
       "'/Users/brunogutierrez/workspace/tese/Datasets'"
      ]
     },
     "execution_count": 1,
     "metadata": {},
     "output_type": "execute_result"
    }
   ],
   "source": [
    "import os\n",
    "\n",
    "os.chdir('../../Datasets')\n",
    "os.getcwd()"
   ]
  },
  {
   "cell_type": "code",
   "execution_count": 42,
   "id": "735c36f5-9044-4578-a7d9-7ba720512904",
   "metadata": {},
   "outputs": [],
   "source": [
    "# Standard libs\n",
    "import pandas as pd\n",
    "import numpy as np\n",
    "import matplotlib.pyplot as plt\n",
    "from matplotlib import lines\n",
    "\n",
    "from nltk.tokenize import sent_tokenize\n",
    "# import seaborn as sns\n",
    "\n",
    "from IPython.core.interactiveshell import InteractiveShell\n",
    "InteractiveShell.ast_node_interactivity = \"all\""
   ]
  },
  {
   "cell_type": "code",
   "execution_count": 48,
   "id": "d5121cc0-d6e6-4e2b-bf8e-f65f472d72ee",
   "metadata": {},
   "outputs": [],
   "source": [
    "raw_path = os.getcwd() + '/Olist/'\n",
    "order_reviews = pd.read_csv(raw_path + 'olist_order_reviews_dataset.csv')\n",
    "products = pd.read_csv(raw_path + 'olist_products_dataset.csv')"
   ]
  },
  {
   "cell_type": "code",
   "execution_count": 4,
   "id": "11e69e0f-82c3-4477-9e55-0ace15522955",
   "metadata": {},
   "outputs": [],
   "source": [
    "# Reading all the files\n",
    "# raw_path = os.getcwd() + '/Olist/'\n",
    "# customer = pd.read_csv(raw_path + 'olist_customers_dataset.csv')\n",
    "# geolocation = pd.read_csv(raw_path + 'olist_geolocation_dataset.csv')\n",
    "# orders = pd.read_csv(raw_path + 'olist_orders_dataset.csv')\n",
    "# order_items = pd.read_csv(raw_path + 'olist_order_items_dataset.csv')\n",
    "# order_payments = pd.read_csv(raw_path + 'olist_order_payments_dataset.csv')\n",
    "# order_reviews = pd.read_csv(raw_path + 'olist_order_reviews_dataset.csv')\n",
    "# products = pd.read_csv(raw_path + 'olist_products_dataset.csv')\n",
    "# sellers = pd.read_csv(raw_path + 'olist_sellers_dataset.csv')"
   ]
  },
  {
   "cell_type": "markdown",
   "id": "cb4c9dbf-216d-4cad-be7c-bc514398a999",
   "metadata": {},
   "source": [
    "- Quantas reviews possuímos?\n",
    "- Quantas frases por review?"
   ]
  },
  {
   "cell_type": "code",
   "execution_count": 5,
   "id": "95f84f0c-2ab3-479a-9830-d8e269c5078c",
   "metadata": {},
   "outputs": [
    {
     "data": {
      "text/html": [
       "<div>\n",
       "<style scoped>\n",
       "    .dataframe tbody tr th:only-of-type {\n",
       "        vertical-align: middle;\n",
       "    }\n",
       "\n",
       "    .dataframe tbody tr th {\n",
       "        vertical-align: top;\n",
       "    }\n",
       "\n",
       "    .dataframe thead th {\n",
       "        text-align: right;\n",
       "    }\n",
       "</style>\n",
       "<table border=\"1\" class=\"dataframe\">\n",
       "  <thead>\n",
       "    <tr style=\"text-align: right;\">\n",
       "      <th></th>\n",
       "      <th>review_id</th>\n",
       "      <th>order_id</th>\n",
       "      <th>review_score</th>\n",
       "      <th>review_comment_title</th>\n",
       "      <th>review_comment_message</th>\n",
       "      <th>review_creation_date</th>\n",
       "      <th>review_answer_timestamp</th>\n",
       "    </tr>\n",
       "  </thead>\n",
       "  <tbody>\n",
       "    <tr>\n",
       "      <th>43707</th>\n",
       "      <td>12f2fd663de5670387805fd70ece2e21</td>\n",
       "      <td>77ef3216467887c78ddec18de86a58b9</td>\n",
       "      <td>5</td>\n",
       "      <td>NaN</td>\n",
       "      <td>NaN</td>\n",
       "      <td>2018-07-26 00:00:00</td>\n",
       "      <td>2018-07-29 17:02:57</td>\n",
       "    </tr>\n",
       "  </tbody>\n",
       "</table>\n",
       "</div>"
      ],
      "text/plain": [
       "                              review_id                          order_id  \\\n",
       "43707  12f2fd663de5670387805fd70ece2e21  77ef3216467887c78ddec18de86a58b9   \n",
       "\n",
       "       review_score review_comment_title review_comment_message  \\\n",
       "43707             5                  NaN                    NaN   \n",
       "\n",
       "      review_creation_date review_answer_timestamp  \n",
       "43707  2018-07-26 00:00:00     2018-07-29 17:02:57  "
      ]
     },
     "execution_count": 5,
     "metadata": {},
     "output_type": "execute_result"
    }
   ],
   "source": [
    "order_reviews.sample()"
   ]
  },
  {
   "cell_type": "code",
   "execution_count": 12,
   "id": "fa823879-ee6d-43bf-872a-d3be81dee901",
   "metadata": {},
   "outputs": [
    {
     "data": {
      "text/html": [
       "<div>\n",
       "<style scoped>\n",
       "    .dataframe tbody tr th:only-of-type {\n",
       "        vertical-align: middle;\n",
       "    }\n",
       "\n",
       "    .dataframe tbody tr th {\n",
       "        vertical-align: top;\n",
       "    }\n",
       "\n",
       "    .dataframe thead th {\n",
       "        text-align: right;\n",
       "    }\n",
       "</style>\n",
       "<table border=\"1\" class=\"dataframe\">\n",
       "  <thead>\n",
       "    <tr style=\"text-align: right;\">\n",
       "      <th></th>\n",
       "      <th>review_score</th>\n",
       "    </tr>\n",
       "  </thead>\n",
       "  <tbody>\n",
       "    <tr>\n",
       "      <th>count</th>\n",
       "      <td>100000.000000</td>\n",
       "    </tr>\n",
       "    <tr>\n",
       "      <th>mean</th>\n",
       "      <td>4.070890</td>\n",
       "    </tr>\n",
       "    <tr>\n",
       "      <th>std</th>\n",
       "      <td>1.359663</td>\n",
       "    </tr>\n",
       "    <tr>\n",
       "      <th>min</th>\n",
       "      <td>1.000000</td>\n",
       "    </tr>\n",
       "    <tr>\n",
       "      <th>25%</th>\n",
       "      <td>4.000000</td>\n",
       "    </tr>\n",
       "    <tr>\n",
       "      <th>50%</th>\n",
       "      <td>5.000000</td>\n",
       "    </tr>\n",
       "    <tr>\n",
       "      <th>75%</th>\n",
       "      <td>5.000000</td>\n",
       "    </tr>\n",
       "    <tr>\n",
       "      <th>max</th>\n",
       "      <td>5.000000</td>\n",
       "    </tr>\n",
       "  </tbody>\n",
       "</table>\n",
       "</div>"
      ],
      "text/plain": [
       "        review_score\n",
       "count  100000.000000\n",
       "mean        4.070890\n",
       "std         1.359663\n",
       "min         1.000000\n",
       "25%         4.000000\n",
       "50%         5.000000\n",
       "75%         5.000000\n",
       "max         5.000000"
      ]
     },
     "execution_count": 12,
     "metadata": {},
     "output_type": "execute_result"
    },
    {
     "data": {
      "text/plain": [
       "review_comment_title      88285\n",
       "review_comment_message    58247\n",
       "dtype: int64"
      ]
     },
     "execution_count": 12,
     "metadata": {},
     "output_type": "execute_result"
    }
   ],
   "source": [
    "order_reviews[['review_score']].describe()\n",
    "# A maioria possui valor NA\n",
    "order_reviews[['review_comment_title', 'review_comment_message']].isna().sum()"
   ]
  },
  {
   "cell_type": "code",
   "execution_count": 33,
   "id": "1cbb9ef1-275b-4c55-ba26-0f7009ce6c0d",
   "metadata": {},
   "outputs": [
    {
     "data": {
      "text/html": [
       "<div>\n",
       "<style scoped>\n",
       "    .dataframe tbody tr th:only-of-type {\n",
       "        vertical-align: middle;\n",
       "    }\n",
       "\n",
       "    .dataframe tbody tr th {\n",
       "        vertical-align: top;\n",
       "    }\n",
       "\n",
       "    .dataframe thead th {\n",
       "        text-align: right;\n",
       "    }\n",
       "</style>\n",
       "<table border=\"1\" class=\"dataframe\">\n",
       "  <thead>\n",
       "    <tr style=\"text-align: right;\">\n",
       "      <th></th>\n",
       "      <th>review_comment_title</th>\n",
       "      <th>review_comment_message</th>\n",
       "    </tr>\n",
       "  </thead>\n",
       "  <tbody>\n",
       "    <tr>\n",
       "      <th>73281</th>\n",
       "      <td>NaN</td>\n",
       "      <td>Recebi dentro do prazo, rápido e tudo certinho.</td>\n",
       "    </tr>\n",
       "  </tbody>\n",
       "</table>\n",
       "</div>"
      ],
      "text/plain": [
       "      review_comment_title                           review_comment_message\n",
       "73281                  NaN  Recebi dentro do prazo, rápido e tudo certinho."
      ]
     },
     "execution_count": 33,
     "metadata": {},
     "output_type": "execute_result"
    }
   ],
   "source": [
    "order_reviews[['review_comment_title', 'review_comment_message']].sample()"
   ]
  },
  {
   "cell_type": "code",
   "execution_count": null,
   "id": "a96f7a2f-663f-4ed5-b31a-625eecc3e3ef",
   "metadata": {},
   "outputs": [],
   "source": [
    "# Contar letras e frases"
   ]
  },
  {
   "cell_type": "code",
   "execution_count": 36,
   "id": "18902f5f-6de5-480e-8a7e-47168afb4b6e",
   "metadata": {},
   "outputs": [],
   "source": [
    "def count_char(text):\n",
    "    return len(text) if isinstance(text, str) else 0"
   ]
  },
  {
   "cell_type": "code",
   "execution_count": 38,
   "id": "138dd41e-6943-41a2-8819-ed03dfc0fbf3",
   "metadata": {},
   "outputs": [
    {
     "data": {
      "text/plain": [
       "count    100000.000000\n",
       "mean          1.405100\n",
       "std           4.426203\n",
       "min           0.000000\n",
       "25%           0.000000\n",
       "50%           0.000000\n",
       "75%           0.000000\n",
       "max          26.000000\n",
       "Name: n_char_title, dtype: float64"
      ]
     },
     "execution_count": 38,
     "metadata": {},
     "output_type": "execute_result"
    },
    {
     "data": {
      "text/plain": [
       "count    100000.000000\n",
       "mean         29.243230\n",
       "std          49.455495\n",
       "min           0.000000\n",
       "25%           0.000000\n",
       "50%           0.000000\n",
       "75%          43.000000\n",
       "max         208.000000\n",
       "Name: n_char_text, dtype: float64"
      ]
     },
     "execution_count": 38,
     "metadata": {},
     "output_type": "execute_result"
    }
   ],
   "source": [
    "order_reviews['n_char_title'] = order_reviews['review_comment_title'].apply(count_char)\n",
    "order_reviews['n_char_text'] = order_reviews['review_comment_message'].apply(count_char)\n",
    "\n",
    "\n",
    "order_reviews['n_char_title'].describe()\n",
    "order_reviews['n_char_text'].describe()"
   ]
  },
  {
   "cell_type": "code",
   "execution_count": 39,
   "id": "c819571d-ec87-471e-bc31-5145f381a649",
   "metadata": {},
   "outputs": [],
   "source": [
    "# contar frases"
   ]
  },
  {
   "cell_type": "code",
   "execution_count": 43,
   "id": "02d303b1-3fda-455e-98db-4eb2806765c8",
   "metadata": {},
   "outputs": [],
   "source": [
    "def count_phrases(text):\n",
    "    if type(text) == str:\n",
    "        return len(sent_tokenize(text, language='portuguese'))\n",
    "    return 0"
   ]
  },
  {
   "cell_type": "code",
   "execution_count": 46,
   "id": "f58d6de8-b736-411d-80d9-64b598227e2e",
   "metadata": {},
   "outputs": [
    {
     "data": {
      "text/plain": [
       "count    41726.000000\n",
       "mean         1.427959\n",
       "std          0.791097\n",
       "min          1.000000\n",
       "25%          1.000000\n",
       "50%          1.000000\n",
       "75%          2.000000\n",
       "max         32.000000\n",
       "Name: n_sentences, dtype: float64"
      ]
     },
     "execution_count": 46,
     "metadata": {},
     "output_type": "execute_result"
    }
   ],
   "source": [
    "order_reviews['n_sentences'] = order_reviews['review_comment_message'].apply(count_phrases)\n",
    "order_reviews[order_reviews['n_sentences']>0]['n_sentences'].describe()"
   ]
  },
  {
   "cell_type": "markdown",
   "id": "5a0cd932-20a5-489a-b3eb-96a8ed4fbc76",
   "metadata": {},
   "source": [
    "Juntar Review e produtos\n",
    "\n",
    "Temos o id do pedido. Ver quais produtos estão inseridos no pedido."
   ]
  },
  {
   "cell_type": "code",
   "execution_count": null,
   "id": "d61a356a-7463-4160-a90e-96c67d8bcbdf",
   "metadata": {},
   "outputs": [],
   "source": []
  },
  {
   "cell_type": "code",
   "execution_count": null,
   "id": "badf28da-12c2-452e-8ddf-492ed3bfae6c",
   "metadata": {},
   "outputs": [],
   "source": []
  },
  {
   "cell_type": "code",
   "execution_count": 47,
   "id": "644db64c-abf1-45f1-ba63-ea649195f9f7",
   "metadata": {},
   "outputs": [],
   "source": [
    "# Ver categorias dos produtos"
   ]
  },
  {
   "cell_type": "code",
   "execution_count": 49,
   "id": "bed06b88-4b89-4ab0-a2f1-6cdc47f02f6f",
   "metadata": {},
   "outputs": [
    {
     "data": {
      "text/html": [
       "<div>\n",
       "<style scoped>\n",
       "    .dataframe tbody tr th:only-of-type {\n",
       "        vertical-align: middle;\n",
       "    }\n",
       "\n",
       "    .dataframe tbody tr th {\n",
       "        vertical-align: top;\n",
       "    }\n",
       "\n",
       "    .dataframe thead th {\n",
       "        text-align: right;\n",
       "    }\n",
       "</style>\n",
       "<table border=\"1\" class=\"dataframe\">\n",
       "  <thead>\n",
       "    <tr style=\"text-align: right;\">\n",
       "      <th></th>\n",
       "      <th>product_id</th>\n",
       "      <th>product_category_name</th>\n",
       "      <th>product_name_lenght</th>\n",
       "      <th>product_description_lenght</th>\n",
       "      <th>product_photos_qty</th>\n",
       "      <th>product_weight_g</th>\n",
       "      <th>product_length_cm</th>\n",
       "      <th>product_height_cm</th>\n",
       "      <th>product_width_cm</th>\n",
       "    </tr>\n",
       "  </thead>\n",
       "  <tbody>\n",
       "    <tr>\n",
       "      <th>32899</th>\n",
       "      <td>02293621a345f7cddda16c5d9c7990e4</td>\n",
       "      <td>telefonia</td>\n",
       "      <td>57.0</td>\n",
       "      <td>447.0</td>\n",
       "      <td>4.0</td>\n",
       "      <td>217.0</td>\n",
       "      <td>17.0</td>\n",
       "      <td>4.0</td>\n",
       "      <td>12.0</td>\n",
       "    </tr>\n",
       "    <tr>\n",
       "      <th>1258</th>\n",
       "      <td>e5255f9b1ef223780f2e2d7d3e11fd22</td>\n",
       "      <td>esporte_lazer</td>\n",
       "      <td>60.0</td>\n",
       "      <td>1461.0</td>\n",
       "      <td>1.0</td>\n",
       "      <td>2850.0</td>\n",
       "      <td>16.0</td>\n",
       "      <td>15.0</td>\n",
       "      <td>15.0</td>\n",
       "    </tr>\n",
       "    <tr>\n",
       "      <th>7009</th>\n",
       "      <td>60c93709754c1b56d6fcc7187a4810f3</td>\n",
       "      <td>utilidades_domesticas</td>\n",
       "      <td>57.0</td>\n",
       "      <td>685.0</td>\n",
       "      <td>1.0</td>\n",
       "      <td>2700.0</td>\n",
       "      <td>30.0</td>\n",
       "      <td>30.0</td>\n",
       "      <td>30.0</td>\n",
       "    </tr>\n",
       "  </tbody>\n",
       "</table>\n",
       "</div>"
      ],
      "text/plain": [
       "                             product_id  product_category_name  \\\n",
       "32899  02293621a345f7cddda16c5d9c7990e4              telefonia   \n",
       "1258   e5255f9b1ef223780f2e2d7d3e11fd22          esporte_lazer   \n",
       "7009   60c93709754c1b56d6fcc7187a4810f3  utilidades_domesticas   \n",
       "\n",
       "       product_name_lenght  product_description_lenght  product_photos_qty  \\\n",
       "32899                 57.0                       447.0                 4.0   \n",
       "1258                  60.0                      1461.0                 1.0   \n",
       "7009                  57.0                       685.0                 1.0   \n",
       "\n",
       "       product_weight_g  product_length_cm  product_height_cm  \\\n",
       "32899             217.0               17.0                4.0   \n",
       "1258             2850.0               16.0               15.0   \n",
       "7009             2700.0               30.0               30.0   \n",
       "\n",
       "       product_width_cm  \n",
       "32899              12.0  \n",
       "1258               15.0  \n",
       "7009               30.0  "
      ]
     },
     "execution_count": 49,
     "metadata": {},
     "output_type": "execute_result"
    }
   ],
   "source": [
    "products.sample(3)"
   ]
  },
  {
   "cell_type": "code",
   "execution_count": 52,
   "id": "21f99cfe-b203-44da-98a0-93dc175107a7",
   "metadata": {},
   "outputs": [
    {
     "data": {
      "text/plain": [
       "cama_mesa_banho                3029\n",
       "esporte_lazer                  2867\n",
       "moveis_decoracao               2657\n",
       "beleza_saude                   2444\n",
       "utilidades_domesticas          2335\n",
       "automotivo                     1900\n",
       "informatica_acessorios         1639\n",
       "brinquedos                     1411\n",
       "relogios_presentes             1329\n",
       "telefonia                      1134\n",
       "bebes                           919\n",
       "perfumaria                      868\n",
       "papelaria                       849\n",
       "fashion_bolsas_e_acessorios     849\n",
       "cool_stuff                      789\n",
       "Name: product_category_name, dtype: int64"
      ]
     },
     "execution_count": 52,
     "metadata": {},
     "output_type": "execute_result"
    }
   ],
   "source": [
    "products['product_category_name'].value_counts().head(15)"
   ]
  },
  {
   "cell_type": "code",
   "execution_count": 55,
   "id": "1b23de9e-2f57-4bb3-b4fd-30ed0a1b4b20",
   "metadata": {},
   "outputs": [
    {
     "data": {
      "text/plain": [
       "array(['perfumaria', 'artes', 'esporte_lazer', 'bebes',\n",
       "       'utilidades_domesticas', 'instrumentos_musicais', 'cool_stuff',\n",
       "       'moveis_decoracao', 'eletrodomesticos', 'brinquedos',\n",
       "       'cama_mesa_banho', 'construcao_ferramentas_seguranca',\n",
       "       'informatica_acessorios', 'beleza_saude', 'malas_acessorios',\n",
       "       'ferramentas_jardim', 'moveis_escritorio', 'automotivo',\n",
       "       'eletronicos', 'fashion_calcados', 'telefonia', 'papelaria',\n",
       "       'fashion_bolsas_e_acessorios', 'pcs', 'casa_construcao',\n",
       "       'relogios_presentes', 'construcao_ferramentas_construcao',\n",
       "       'pet_shop', 'eletroportateis', 'agro_industria_e_comercio', nan,\n",
       "       'moveis_sala', 'sinalizacao_e_seguranca', 'climatizacao',\n",
       "       'consoles_games', 'livros_interesse_geral',\n",
       "       'construcao_ferramentas_ferramentas',\n",
       "       'fashion_underwear_e_moda_praia', 'fashion_roupa_masculina',\n",
       "       'moveis_cozinha_area_de_servico_jantar_e_jardim',\n",
       "       'industria_comercio_e_negocios', 'telefonia_fixa',\n",
       "       'construcao_ferramentas_iluminacao', 'livros_tecnicos',\n",
       "       'eletrodomesticos_2', 'artigos_de_festas', 'bebidas',\n",
       "       'market_place', 'la_cuisine', 'construcao_ferramentas_jardim',\n",
       "       'fashion_roupa_feminina', 'casa_conforto', 'audio',\n",
       "       'alimentos_bebidas', 'musica', 'alimentos',\n",
       "       'tablets_impressao_imagem', 'livros_importados',\n",
       "       'portateis_casa_forno_e_cafe', 'fashion_esporte',\n",
       "       'artigos_de_natal', 'fashion_roupa_infanto_juvenil',\n",
       "       'dvds_blu_ray', 'artes_e_artesanato', 'pc_gamer', 'moveis_quarto',\n",
       "       'cine_foto', 'fraldas_higiene', 'flores', 'casa_conforto_2',\n",
       "       'portateis_cozinha_e_preparadores_de_alimentos',\n",
       "       'seguros_e_servicos', 'moveis_colchao_e_estofado',\n",
       "       'cds_dvds_musicais'], dtype=object)"
      ]
     },
     "execution_count": 55,
     "metadata": {},
     "output_type": "execute_result"
    }
   ],
   "source": [
    "products['product_category_name'].unique()"
   ]
  }
 ],
 "metadata": {
  "kernelspec": {
   "display_name": "Python 3 (ipykernel)",
   "language": "python",
   "name": "python3"
  },
  "language_info": {
   "codemirror_mode": {
    "name": "ipython",
    "version": 3
   },
   "file_extension": ".py",
   "mimetype": "text/x-python",
   "name": "python",
   "nbconvert_exporter": "python",
   "pygments_lexer": "ipython3",
   "version": "3.8.0"
  }
 },
 "nbformat": 4,
 "nbformat_minor": 5
}
