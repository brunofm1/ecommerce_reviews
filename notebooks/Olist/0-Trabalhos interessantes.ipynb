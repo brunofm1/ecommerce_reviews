{
 "cells": [
  {
   "cell_type": "markdown",
   "id": "c96bad8d-4b5b-465a-8f16-d60ea8be3d8a",
   "metadata": {},
   "source": [
    "# Links de trabalhos interessantes com o dataset"
   ]
  },
  {
   "cell_type": "markdown",
   "id": "cd20e0d6-2597-44d2-a895-0e1a2fbb59d2",
   "metadata": {},
   "source": [
    "0 - https://www.kaggle.com/datasets/olistbr/brazilian-ecommerce\n",
    "\n",
    "Descrição do dataset no Kaggle."
   ]
  },
  {
   "cell_type": "markdown",
   "id": "6d1e3246-539f-498d-a4ad-3ca214341305",
   "metadata": {},
   "source": [
    "1 - https://shweta-yadav15.github.io/Ecommerce-Data-Analysis/\n",
    "\n",
    "Esse trabalho tem de interessante a predição de satisfação do cliente e segmentação de acordo com valor do cliente."
   ]
  },
  {
   "cell_type": "markdown",
   "id": "d4fa19e5-de5e-4cf7-b079-dc4b512f3c44",
   "metadata": {},
   "source": [
    "2 - https://www.kaggle.com/code/thiagopanini/e-commerce-sentiment-analysis-eda-viz-nlp\n",
    "\n",
    "Notebook com várias análises diversas."
   ]
  },
  {
   "cell_type": "code",
   "execution_count": null,
   "id": "b3e84f25-8cba-4e7c-89d3-7f323d5870e7",
   "metadata": {},
   "outputs": [],
   "source": []
  }
 ],
 "metadata": {
  "kernelspec": {
   "display_name": "Python 3 (ipykernel)",
   "language": "python",
   "name": "python3"
  },
  "language_info": {
   "codemirror_mode": {
    "name": "ipython",
    "version": 3
   },
   "file_extension": ".py",
   "mimetype": "text/x-python",
   "name": "python",
   "nbconvert_exporter": "python",
   "pygments_lexer": "ipython3",
   "version": "3.8.0"
  }
 },
 "nbformat": 4,
 "nbformat_minor": 5
}
