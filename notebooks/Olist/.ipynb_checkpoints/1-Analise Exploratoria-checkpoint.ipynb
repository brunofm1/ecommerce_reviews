{
 "cells": [
  {
   "cell_type": "code",
   "execution_count": 1,
   "id": "cc3618bb-fb61-4ba6-ba91-7eba311152ee",
   "metadata": {},
   "outputs": [
    {
     "data": {
      "text/plain": [
       "'/Users/brunogutierrez/workspace/tese'"
      ]
     },
     "execution_count": 1,
     "metadata": {},
     "output_type": "execute_result"
    }
   ],
   "source": [
    "import os\n",
    "\n",
    "os.chdir('../../')\n",
    "os.getcwd()"
   ]
  },
  {
   "cell_type": "code",
   "execution_count": 42,
   "id": "735c36f5-9044-4578-a7d9-7ba720512904",
   "metadata": {},
   "outputs": [],
   "source": [
    "# Standard libs\n",
    "import pandas as pd\n",
    "import numpy as np\n",
    "import matplotlib.pyplot as plt\n",
    "from matplotlib import lines\n",
    "\n",
    "from nltk.tokenize import sent_tokenize\n",
    "# import seaborn as sns\n",
    "\n",
    "from IPython.core.interactiveshell import InteractiveShell\n",
    "InteractiveShell.ast_node_interactivity = \"all\""
   ]
  },
  {
   "cell_type": "code",
   "execution_count": 3,
   "id": "d5121cc0-d6e6-4e2b-bf8e-f65f472d72ee",
   "metadata": {},
   "outputs": [],
   "source": [
    "raw_path = os.getcwd() + '/Olist/'\n",
    "order_reviews = pd.read_csv(raw_path + 'olist_order_reviews_dataset.csv')"
   ]
  },
  {
   "cell_type": "code",
   "execution_count": 4,
   "id": "11e69e0f-82c3-4477-9e55-0ace15522955",
   "metadata": {},
   "outputs": [],
   "source": [
    "# Reading all the files\n",
    "# raw_path = os.getcwd() + '/Olist/'\n",
    "# customer = pd.read_csv(raw_path + 'olist_customers_dataset.csv')\n",
    "# geolocation = pd.read_csv(raw_path + 'olist_geolocation_dataset.csv')\n",
    "# orders = pd.read_csv(raw_path + 'olist_orders_dataset.csv')\n",
    "# order_items = pd.read_csv(raw_path + 'olist_order_items_dataset.csv')\n",
    "# order_payments = pd.read_csv(raw_path + 'olist_order_payments_dataset.csv')\n",
    "# order_reviews = pd.read_csv(raw_path + 'olist_order_reviews_dataset.csv')\n",
    "# products = pd.read_csv(raw_path + 'olist_products_dataset.csv')\n",
    "# sellers = pd.read_csv(raw_path + 'olist_sellers_dataset.csv')"
   ]
  },
  {
   "cell_type": "markdown",
   "id": "cb4c9dbf-216d-4cad-be7c-bc514398a999",
   "metadata": {},
   "source": [
    "- Quantas reviews possuímos?\n",
    "- Quantas frases por review?"
   ]
  },
  {
   "cell_type": "code",
   "execution_count": 5,
   "id": "95f84f0c-2ab3-479a-9830-d8e269c5078c",
   "metadata": {},
   "outputs": [
    {
     "data": {
      "text/html": [
       "<div>\n",
       "<style scoped>\n",
       "    .dataframe tbody tr th:only-of-type {\n",
       "        vertical-align: middle;\n",
       "    }\n",
       "\n",
       "    .dataframe tbody tr th {\n",
       "        vertical-align: top;\n",
       "    }\n",
       "\n",
       "    .dataframe thead th {\n",
       "        text-align: right;\n",
       "    }\n",
       "</style>\n",
       "<table border=\"1\" class=\"dataframe\">\n",
       "  <thead>\n",
       "    <tr style=\"text-align: right;\">\n",
       "      <th></th>\n",
       "      <th>review_id</th>\n",
       "      <th>order_id</th>\n",
       "      <th>review_score</th>\n",
       "      <th>review_comment_title</th>\n",
       "      <th>review_comment_message</th>\n",
       "      <th>review_creation_date</th>\n",
       "      <th>review_answer_timestamp</th>\n",
       "    </tr>\n",
       "  </thead>\n",
       "  <tbody>\n",
       "    <tr>\n",
       "      <th>43707</th>\n",
       "      <td>12f2fd663de5670387805fd70ece2e21</td>\n",
       "      <td>77ef3216467887c78ddec18de86a58b9</td>\n",
       "      <td>5</td>\n",
       "      <td>NaN</td>\n",
       "      <td>NaN</td>\n",
       "      <td>2018-07-26 00:00:00</td>\n",
       "      <td>2018-07-29 17:02:57</td>\n",
       "    </tr>\n",
       "  </tbody>\n",
       "</table>\n",
       "</div>"
      ],
      "text/plain": [
       "                              review_id                          order_id  \\\n",
       "43707  12f2fd663de5670387805fd70ece2e21  77ef3216467887c78ddec18de86a58b9   \n",
       "\n",
       "       review_score review_comment_title review_comment_message  \\\n",
       "43707             5                  NaN                    NaN   \n",
       "\n",
       "      review_creation_date review_answer_timestamp  \n",
       "43707  2018-07-26 00:00:00     2018-07-29 17:02:57  "
      ]
     },
     "execution_count": 5,
     "metadata": {},
     "output_type": "execute_result"
    }
   ],
   "source": [
    "order_reviews.sample()"
   ]
  },
  {
   "cell_type": "code",
   "execution_count": 12,
   "id": "fa823879-ee6d-43bf-872a-d3be81dee901",
   "metadata": {},
   "outputs": [
    {
     "data": {
      "text/html": [
       "<div>\n",
       "<style scoped>\n",
       "    .dataframe tbody tr th:only-of-type {\n",
       "        vertical-align: middle;\n",
       "    }\n",
       "\n",
       "    .dataframe tbody tr th {\n",
       "        vertical-align: top;\n",
       "    }\n",
       "\n",
       "    .dataframe thead th {\n",
       "        text-align: right;\n",
       "    }\n",
       "</style>\n",
       "<table border=\"1\" class=\"dataframe\">\n",
       "  <thead>\n",
       "    <tr style=\"text-align: right;\">\n",
       "      <th></th>\n",
       "      <th>review_score</th>\n",
       "    </tr>\n",
       "  </thead>\n",
       "  <tbody>\n",
       "    <tr>\n",
       "      <th>count</th>\n",
       "      <td>100000.000000</td>\n",
       "    </tr>\n",
       "    <tr>\n",
       "      <th>mean</th>\n",
       "      <td>4.070890</td>\n",
       "    </tr>\n",
       "    <tr>\n",
       "      <th>std</th>\n",
       "      <td>1.359663</td>\n",
       "    </tr>\n",
       "    <tr>\n",
       "      <th>min</th>\n",
       "      <td>1.000000</td>\n",
       "    </tr>\n",
       "    <tr>\n",
       "      <th>25%</th>\n",
       "      <td>4.000000</td>\n",
       "    </tr>\n",
       "    <tr>\n",
       "      <th>50%</th>\n",
       "      <td>5.000000</td>\n",
       "    </tr>\n",
       "    <tr>\n",
       "      <th>75%</th>\n",
       "      <td>5.000000</td>\n",
       "    </tr>\n",
       "    <tr>\n",
       "      <th>max</th>\n",
       "      <td>5.000000</td>\n",
       "    </tr>\n",
       "  </tbody>\n",
       "</table>\n",
       "</div>"
      ],
      "text/plain": [
       "        review_score\n",
       "count  100000.000000\n",
       "mean        4.070890\n",
       "std         1.359663\n",
       "min         1.000000\n",
       "25%         4.000000\n",
       "50%         5.000000\n",
       "75%         5.000000\n",
       "max         5.000000"
      ]
     },
     "execution_count": 12,
     "metadata": {},
     "output_type": "execute_result"
    },
    {
     "data": {
      "text/plain": [
       "review_comment_title      88285\n",
       "review_comment_message    58247\n",
       "dtype: int64"
      ]
     },
     "execution_count": 12,
     "metadata": {},
     "output_type": "execute_result"
    }
   ],
   "source": [
    "order_reviews[['review_score']].describe()\n",
    "# A maioria possui valor NA\n",
    "order_reviews[['review_comment_title', 'review_comment_message']].isna().sum()"
   ]
  },
  {
   "cell_type": "code",
   "execution_count": 33,
   "id": "1cbb9ef1-275b-4c55-ba26-0f7009ce6c0d",
   "metadata": {},
   "outputs": [
    {
     "data": {
      "text/html": [
       "<div>\n",
       "<style scoped>\n",
       "    .dataframe tbody tr th:only-of-type {\n",
       "        vertical-align: middle;\n",
       "    }\n",
       "\n",
       "    .dataframe tbody tr th {\n",
       "        vertical-align: top;\n",
       "    }\n",
       "\n",
       "    .dataframe thead th {\n",
       "        text-align: right;\n",
       "    }\n",
       "</style>\n",
       "<table border=\"1\" class=\"dataframe\">\n",
       "  <thead>\n",
       "    <tr style=\"text-align: right;\">\n",
       "      <th></th>\n",
       "      <th>review_comment_title</th>\n",
       "      <th>review_comment_message</th>\n",
       "    </tr>\n",
       "  </thead>\n",
       "  <tbody>\n",
       "    <tr>\n",
       "      <th>73281</th>\n",
       "      <td>NaN</td>\n",
       "      <td>Recebi dentro do prazo, rápido e tudo certinho.</td>\n",
       "    </tr>\n",
       "  </tbody>\n",
       "</table>\n",
       "</div>"
      ],
      "text/plain": [
       "      review_comment_title                           review_comment_message\n",
       "73281                  NaN  Recebi dentro do prazo, rápido e tudo certinho."
      ]
     },
     "execution_count": 33,
     "metadata": {},
     "output_type": "execute_result"
    }
   ],
   "source": [
    "order_reviews[['review_comment_title', 'review_comment_message']].sample()"
   ]
  },
  {
   "cell_type": "code",
   "execution_count": null,
   "id": "a96f7a2f-663f-4ed5-b31a-625eecc3e3ef",
   "metadata": {},
   "outputs": [],
   "source": [
    "# Contar letras e frases"
   ]
  },
  {
   "cell_type": "code",
   "execution_count": 36,
   "id": "18902f5f-6de5-480e-8a7e-47168afb4b6e",
   "metadata": {},
   "outputs": [],
   "source": [
    "def count_char(text):\n",
    "    return len(text) if isinstance(text, str) else 0"
   ]
  },
  {
   "cell_type": "code",
   "execution_count": 38,
   "id": "138dd41e-6943-41a2-8819-ed03dfc0fbf3",
   "metadata": {},
   "outputs": [
    {
     "data": {
      "text/plain": [
       "count    100000.000000\n",
       "mean          1.405100\n",
       "std           4.426203\n",
       "min           0.000000\n",
       "25%           0.000000\n",
       "50%           0.000000\n",
       "75%           0.000000\n",
       "max          26.000000\n",
       "Name: n_char_title, dtype: float64"
      ]
     },
     "execution_count": 38,
     "metadata": {},
     "output_type": "execute_result"
    },
    {
     "data": {
      "text/plain": [
       "count    100000.000000\n",
       "mean         29.243230\n",
       "std          49.455495\n",
       "min           0.000000\n",
       "25%           0.000000\n",
       "50%           0.000000\n",
       "75%          43.000000\n",
       "max         208.000000\n",
       "Name: n_char_text, dtype: float64"
      ]
     },
     "execution_count": 38,
     "metadata": {},
     "output_type": "execute_result"
    }
   ],
   "source": [
    "order_reviews['n_char_title'] = order_reviews['review_comment_title'].apply(count_char)\n",
    "order_reviews['n_char_text'] = order_reviews['review_comment_message'].apply(count_char)\n",
    "\n",
    "\n",
    "order_reviews['n_char_title'].describe()\n",
    "order_reviews['n_char_text'].describe()"
   ]
  },
  {
   "cell_type": "code",
   "execution_count": 39,
   "id": "c819571d-ec87-471e-bc31-5145f381a649",
   "metadata": {},
   "outputs": [],
   "source": [
    "# contar frases"
   ]
  },
  {
   "cell_type": "code",
   "execution_count": 43,
   "id": "02d303b1-3fda-455e-98db-4eb2806765c8",
   "metadata": {},
   "outputs": [],
   "source": [
    "def count_phrases(text):\n",
    "    if type(text) == str:\n",
    "        return len(sent_tokenize(text, language='portuguese'))\n",
    "    return 0"
   ]
  },
  {
   "cell_type": "code",
   "execution_count": 46,
   "id": "f58d6de8-b736-411d-80d9-64b598227e2e",
   "metadata": {},
   "outputs": [
    {
     "data": {
      "text/plain": [
       "count    41726.000000\n",
       "mean         1.427959\n",
       "std          0.791097\n",
       "min          1.000000\n",
       "25%          1.000000\n",
       "50%          1.000000\n",
       "75%          2.000000\n",
       "max         32.000000\n",
       "Name: n_sentences, dtype: float64"
      ]
     },
     "execution_count": 46,
     "metadata": {},
     "output_type": "execute_result"
    }
   ],
   "source": [
    "order_reviews['n_sentences'] = order_reviews['review_comment_message'].apply(count_phrases)\n",
    "order_reviews[order_reviews['n_sentences']>0]['n_sentences'].describe()"
   ]
  },
  {
   "cell_type": "markdown",
   "id": "5a0cd932-20a5-489a-b3eb-96a8ed4fbc76",
   "metadata": {},
   "source": [
    "Juntar Review e produtos\n",
    "\n",
    "Temos o id do pedido. Ver quais produtos estão inseridos no pedido."
   ]
  },
  {
   "cell_type": "code",
   "execution_count": null,
   "id": "d61a356a-7463-4160-a90e-96c67d8bcbdf",
   "metadata": {},
   "outputs": [],
   "source": []
  }
 ],
 "metadata": {
  "kernelspec": {
   "display_name": "Python 3 (ipykernel)",
   "language": "python",
   "name": "python3"
  },
  "language_info": {
   "codemirror_mode": {
    "name": "ipython",
    "version": 3
   },
   "file_extension": ".py",
   "mimetype": "text/x-python",
   "name": "python",
   "nbconvert_exporter": "python",
   "pygments_lexer": "ipython3",
   "version": "3.8.0"
  }
 },
 "nbformat": 4,
 "nbformat_minor": 5
}
