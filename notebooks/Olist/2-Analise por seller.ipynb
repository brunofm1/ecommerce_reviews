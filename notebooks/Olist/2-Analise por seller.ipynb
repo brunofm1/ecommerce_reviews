{
 "cells": [
  {
   "cell_type": "code",
   "execution_count": 1,
   "id": "069eb6d5-7759-472f-bc31-fa5ec31f1dae",
   "metadata": {},
   "outputs": [
    {
     "data": {
      "text/plain": [
       "'/Users/brunogutierrez/workspace/tese/Datasets'"
      ]
     },
     "execution_count": 1,
     "metadata": {},
     "output_type": "execute_result"
    }
   ],
   "source": [
    "import os\n",
    "\n",
    "os.chdir('../../Datasets')\n",
    "os.getcwd()"
   ]
  },
  {
   "cell_type": "code",
   "execution_count": 2,
   "id": "d7db4c88-026f-4111-921f-b09d9bc8d52c",
   "metadata": {},
   "outputs": [],
   "source": [
    "# Standard libs\n",
    "import pandas as pd\n",
    "import numpy as np\n",
    "import matplotlib.pyplot as plt\n",
    "from matplotlib import lines\n",
    "\n",
    "from nltk.tokenize import sent_tokenize\n",
    "# import seaborn as sns\n",
    "\n",
    "from IPython.core.interactiveshell import InteractiveShell\n",
    "InteractiveShell.ast_node_interactivity = \"all\""
   ]
  },
  {
   "cell_type": "code",
   "execution_count": 3,
   "id": "491dfdde-28b8-4a69-90d3-aeec86095b9f",
   "metadata": {},
   "outputs": [],
   "source": [
    "raw_path = os.getcwd() + '/Olist/'\n",
    "order_reviews = pd.read_csv(raw_path + 'olist_order_reviews_dataset.csv')\n",
    "products = pd.read_csv(raw_path + 'olist_products_dataset.csv')\n",
    "sellers = pd.read_csv(raw_path + 'olist_sellers_dataset.csv')"
   ]
  },
  {
   "cell_type": "code",
   "execution_count": 4,
   "id": "3e3d6b43-b02a-46b5-aaad-eac8b48b26ee",
   "metadata": {},
   "outputs": [],
   "source": [
    "# Reading all the files\n",
    "# raw_path = os.getcwd() + '/Olist/'\n",
    "# customer = pd.read_csv(raw_path + 'olist_customers_dataset.csv')\n",
    "# geolocation = pd.read_csv(raw_path + 'olist_geolocation_dataset.csv')\n",
    "# orders = pd.read_csv(raw_path + 'olist_orders_dataset.csv')\n",
    "# order_items = pd.read_csv(raw_path + 'olist_order_items_dataset.csv')\n",
    "# order_payments = pd.read_csv(raw_path + 'olist_order_payments_dataset.csv')\n",
    "# order_reviews = pd.read_csv(raw_path + 'olist_order_reviews_dataset.csv')\n",
    "# products = pd.read_csv(raw_path + 'olist_products_dataset.csv')\n",
    "# sellers = pd.read_csv(raw_path + 'olist_sellers_dataset.csv')"
   ]
  },
  {
   "cell_type": "code",
   "execution_count": 5,
   "id": "3731f71c-3756-40bf-8f6b-ae298383b9bf",
   "metadata": {},
   "outputs": [
    {
     "data": {
      "text/html": [
       "<div>\n",
       "<style scoped>\n",
       "    .dataframe tbody tr th:only-of-type {\n",
       "        vertical-align: middle;\n",
       "    }\n",
       "\n",
       "    .dataframe tbody tr th {\n",
       "        vertical-align: top;\n",
       "    }\n",
       "\n",
       "    .dataframe thead th {\n",
       "        text-align: right;\n",
       "    }\n",
       "</style>\n",
       "<table border=\"1\" class=\"dataframe\">\n",
       "  <thead>\n",
       "    <tr style=\"text-align: right;\">\n",
       "      <th></th>\n",
       "      <th>seller_id</th>\n",
       "      <th>seller_zip_code_prefix</th>\n",
       "      <th>seller_city</th>\n",
       "      <th>seller_state</th>\n",
       "    </tr>\n",
       "  </thead>\n",
       "  <tbody>\n",
       "    <tr>\n",
       "      <th>2678</th>\n",
       "      <td>bd1d49a326abfa9b1036772e40445430</td>\n",
       "      <td>17017</td>\n",
       "      <td>bauru</td>\n",
       "      <td>SP</td>\n",
       "    </tr>\n",
       "  </tbody>\n",
       "</table>\n",
       "</div>"
      ],
      "text/plain": [
       "                             seller_id  seller_zip_code_prefix seller_city  \\\n",
       "2678  bd1d49a326abfa9b1036772e40445430                   17017       bauru   \n",
       "\n",
       "     seller_state  \n",
       "2678           SP  "
      ]
     },
     "execution_count": 5,
     "metadata": {},
     "output_type": "execute_result"
    }
   ],
   "source": [
    "sellers.sample()"
   ]
  },
  {
   "cell_type": "code",
   "execution_count": 9,
   "id": "2312114d-47b0-4c0c-8a35-fd9417c0f143",
   "metadata": {},
   "outputs": [
    {
     "data": {
      "text/html": [
       "<div>\n",
       "<style scoped>\n",
       "    .dataframe tbody tr th:only-of-type {\n",
       "        vertical-align: middle;\n",
       "    }\n",
       "\n",
       "    .dataframe tbody tr th {\n",
       "        vertical-align: top;\n",
       "    }\n",
       "\n",
       "    .dataframe thead th {\n",
       "        text-align: right;\n",
       "    }\n",
       "</style>\n",
       "<table border=\"1\" class=\"dataframe\">\n",
       "  <thead>\n",
       "    <tr style=\"text-align: right;\">\n",
       "      <th></th>\n",
       "      <th>order_id</th>\n",
       "      <th>customer_id</th>\n",
       "      <th>order_status</th>\n",
       "      <th>order_purchase_timestamp</th>\n",
       "      <th>order_approved_at</th>\n",
       "      <th>order_delivered_carrier_date</th>\n",
       "      <th>order_delivered_customer_date</th>\n",
       "      <th>order_estimated_delivery_date</th>\n",
       "    </tr>\n",
       "  </thead>\n",
       "  <tbody>\n",
       "    <tr>\n",
       "      <th>15246</th>\n",
       "      <td>b41cc5a0872a7fd886b2cb2e300dbe7a</td>\n",
       "      <td>0e7dc1a303c6c24a96103b216d443185</td>\n",
       "      <td>delivered</td>\n",
       "      <td>2018-07-16 10:53:45</td>\n",
       "      <td>2018-07-17 04:31:56</td>\n",
       "      <td>2018-07-23 14:28:00</td>\n",
       "      <td>2018-07-24 14:21:35</td>\n",
       "      <td>2018-07-26 00:00:00</td>\n",
       "    </tr>\n",
       "  </tbody>\n",
       "</table>\n",
       "</div>"
      ],
      "text/plain": [
       "                               order_id                       customer_id  \\\n",
       "15246  b41cc5a0872a7fd886b2cb2e300dbe7a  0e7dc1a303c6c24a96103b216d443185   \n",
       "\n",
       "      order_status order_purchase_timestamp    order_approved_at  \\\n",
       "15246    delivered      2018-07-16 10:53:45  2018-07-17 04:31:56   \n",
       "\n",
       "      order_delivered_carrier_date order_delivered_customer_date  \\\n",
       "15246          2018-07-23 14:28:00           2018-07-24 14:21:35   \n",
       "\n",
       "      order_estimated_delivery_date  \n",
       "15246           2018-07-26 00:00:00  "
      ]
     },
     "execution_count": 9,
     "metadata": {},
     "output_type": "execute_result"
    }
   ],
   "source": [
    "orders = pd.read_csv(raw_path + 'olist_orders_dataset.csv')\n",
    "orders.sample()"
   ]
  },
  {
   "cell_type": "code",
   "execution_count": 8,
   "id": "10e15528-1f62-4b7d-8b8f-446948a6fa25",
   "metadata": {},
   "outputs": [
    {
     "data": {
      "text/html": [
       "<div>\n",
       "<style scoped>\n",
       "    .dataframe tbody tr th:only-of-type {\n",
       "        vertical-align: middle;\n",
       "    }\n",
       "\n",
       "    .dataframe tbody tr th {\n",
       "        vertical-align: top;\n",
       "    }\n",
       "\n",
       "    .dataframe thead th {\n",
       "        text-align: right;\n",
       "    }\n",
       "</style>\n",
       "<table border=\"1\" class=\"dataframe\">\n",
       "  <thead>\n",
       "    <tr style=\"text-align: right;\">\n",
       "      <th></th>\n",
       "      <th>order_id</th>\n",
       "      <th>order_item_id</th>\n",
       "      <th>product_id</th>\n",
       "      <th>seller_id</th>\n",
       "      <th>shipping_limit_date</th>\n",
       "      <th>price</th>\n",
       "      <th>freight_value</th>\n",
       "    </tr>\n",
       "  </thead>\n",
       "  <tbody>\n",
       "    <tr>\n",
       "      <th>57536</th>\n",
       "      <td>82e9cdd567caae62a6d0e4e9bbf28901</td>\n",
       "      <td>2</td>\n",
       "      <td>368c6c730842d78016ad823897a372db</td>\n",
       "      <td>1f50f920176fa81dab994f9023523100</td>\n",
       "      <td>2018-06-22 17:31:06</td>\n",
       "      <td>49.9</td>\n",
       "      <td>20.99</td>\n",
       "    </tr>\n",
       "  </tbody>\n",
       "</table>\n",
       "</div>"
      ],
      "text/plain": [
       "                               order_id  order_item_id  \\\n",
       "57536  82e9cdd567caae62a6d0e4e9bbf28901              2   \n",
       "\n",
       "                             product_id                         seller_id  \\\n",
       "57536  368c6c730842d78016ad823897a372db  1f50f920176fa81dab994f9023523100   \n",
       "\n",
       "       shipping_limit_date  price  freight_value  \n",
       "57536  2018-06-22 17:31:06   49.9          20.99  "
      ]
     },
     "execution_count": 8,
     "metadata": {},
     "output_type": "execute_result"
    }
   ],
   "source": [
    "order_items = pd.read_csv(raw_path + 'olist_order_items_dataset.csv')\n",
    "order_items.sample()"
   ]
  },
  {
   "cell_type": "code",
   "execution_count": 10,
   "id": "7d6fc0b7-5c24-4f0d-ba3d-f469027f4304",
   "metadata": {},
   "outputs": [
    {
     "data": {
      "text/html": [
       "<div>\n",
       "<style scoped>\n",
       "    .dataframe tbody tr th:only-of-type {\n",
       "        vertical-align: middle;\n",
       "    }\n",
       "\n",
       "    .dataframe tbody tr th {\n",
       "        vertical-align: top;\n",
       "    }\n",
       "\n",
       "    .dataframe thead th {\n",
       "        text-align: right;\n",
       "    }\n",
       "</style>\n",
       "<table border=\"1\" class=\"dataframe\">\n",
       "  <thead>\n",
       "    <tr style=\"text-align: right;\">\n",
       "      <th></th>\n",
       "      <th>review_id</th>\n",
       "      <th>order_id</th>\n",
       "      <th>review_score</th>\n",
       "      <th>review_comment_title</th>\n",
       "      <th>review_comment_message</th>\n",
       "      <th>review_creation_date</th>\n",
       "      <th>review_answer_timestamp</th>\n",
       "    </tr>\n",
       "  </thead>\n",
       "  <tbody>\n",
       "    <tr>\n",
       "      <th>75273</th>\n",
       "      <td>6c99a3aef68e5330e0b621b38fd742ce</td>\n",
       "      <td>7b2f3756c235e93b2ad6330c54805401</td>\n",
       "      <td>2</td>\n",
       "      <td>NaN</td>\n",
       "      <td>pois era pra entregar previsão para dia 03/04/...</td>\n",
       "      <td>2018-04-05 00:00:00</td>\n",
       "      <td>2018-04-05 12:59:09</td>\n",
       "    </tr>\n",
       "  </tbody>\n",
       "</table>\n",
       "</div>"
      ],
      "text/plain": [
       "                              review_id                          order_id  \\\n",
       "75273  6c99a3aef68e5330e0b621b38fd742ce  7b2f3756c235e93b2ad6330c54805401   \n",
       "\n",
       "       review_score review_comment_title  \\\n",
       "75273             2                  NaN   \n",
       "\n",
       "                                  review_comment_message review_creation_date  \\\n",
       "75273  pois era pra entregar previsão para dia 03/04/...  2018-04-05 00:00:00   \n",
       "\n",
       "      review_answer_timestamp  \n",
       "75273     2018-04-05 12:59:09  "
      ]
     },
     "execution_count": 10,
     "metadata": {},
     "output_type": "execute_result"
    }
   ],
   "source": [
    "order_reviews.sample()"
   ]
  },
  {
   "cell_type": "code",
   "execution_count": null,
   "id": "a88a7f2a-3db4-460c-8942-330642510640",
   "metadata": {},
   "outputs": [],
   "source": []
  },
  {
   "cell_type": "markdown",
   "id": "d7bebc92-8bf0-4d87-b812-abfd8c954c53",
   "metadata": {},
   "source": [
    "### Número de items por pedido"
   ]
  },
  {
   "cell_type": "code",
   "execution_count": 14,
   "id": "48b102e1-ff5f-48ac-b290-d1c5b6eb2849",
   "metadata": {},
   "outputs": [
    {
     "data": {
      "text/plain": [
       "order_id               0\n",
       "order_item_id          0\n",
       "product_id             0\n",
       "seller_id              0\n",
       "shipping_limit_date    0\n",
       "price                  0\n",
       "freight_value          0\n",
       "dtype: int64"
      ]
     },
     "execution_count": 14,
     "metadata": {},
     "output_type": "execute_result"
    }
   ],
   "source": [
    "order_items.isna().sum()"
   ]
  },
  {
   "cell_type": "code",
   "execution_count": 18,
   "id": "30a719f4-39f5-4640-a45a-9d9d070e7bec",
   "metadata": {},
   "outputs": [
    {
     "data": {
      "text/plain": [
       "count    98666.000000\n",
       "mean         1.141731\n",
       "std          0.538452\n",
       "min          1.000000\n",
       "50%          1.000000\n",
       "90%          1.000000\n",
       "95%          2.000000\n",
       "max         21.000000\n",
       "dtype: float64"
      ]
     },
     "execution_count": 18,
     "metadata": {},
     "output_type": "execute_result"
    }
   ],
   "source": [
    "# a grande maioria com apenas um pedido\n",
    "n_itens_per_order = order_items.value_counts('order_id')\n",
    "n_itens_per_order.describe(percentiles=[.9, .95])"
   ]
  },
  {
   "cell_type": "markdown",
   "id": "3c7323ff-0503-4282-b786-721534ac34fa",
   "metadata": {},
   "source": [
    "### Pedidos que tem produtos de sellers diferentes\n",
    "\n",
    "1 -  Agrupar order items por order id e contar número de seller_id diferentes"
   ]
  },
  {
   "cell_type": "code",
   "execution_count": 30,
   "id": "89507666-9cb0-41e5-a586-7d34edbcf7f6",
   "metadata": {},
   "outputs": [
    {
     "name": "stdout",
     "output_type": "stream",
     "text": [
      "1278 pedidos com mais de um seller.\n"
     ]
    }
   ],
   "source": [
    "sellers_per_order = order_items.groupby('order_id')['seller_id'].nunique()\n",
    "multiple_sellers_orders = sellers_per_order[sellers_per_order>1]\n",
    "print(f'{len(multiple_sellers_orders)} pedidos com mais de um seller.')"
   ]
  },
  {
   "cell_type": "code",
   "execution_count": 35,
   "id": "86c6e22d-605e-4e65-96b7-9f39b718e221",
   "metadata": {},
   "outputs": [
    {
     "data": {
      "text/plain": [
       "(109547, 7)"
      ]
     },
     "execution_count": 35,
     "metadata": {},
     "output_type": "execute_result"
    }
   ],
   "source": [
    "# descartar\n",
    "filtered_orders_items = order_items[~order_items['order_id'].isin(multiple_sellers_orders.index)]\n",
    "filtered_orders_items.shape"
   ]
  },
  {
   "cell_type": "markdown",
   "id": "6387334b-331e-40e5-9517-919c5f51b2d2",
   "metadata": {},
   "source": [
    "## Alinhar pedidos com reviews"
   ]
  },
  {
   "cell_type": "code",
   "execution_count": 54,
   "id": "39d5edaa-78aa-42b6-a69e-ef98846ff511",
   "metadata": {},
   "outputs": [
    {
     "data": {
      "text/plain": [
       "(41753, 7)"
      ]
     },
     "execution_count": 54,
     "metadata": {},
     "output_type": "execute_result"
    }
   ],
   "source": [
    "# remover pedidos sem comentário\n",
    "filtered_order_reviews = order_reviews.dropna(subset='review_comment_message') \n",
    "filtered_order_reviews.shape"
   ]
  },
  {
   "cell_type": "code",
   "execution_count": 55,
   "id": "4dcbbda8-8d5f-448a-aa2d-983a353df8d1",
   "metadata": {},
   "outputs": [
    {
     "data": {
      "text/html": [
       "<div>\n",
       "<style scoped>\n",
       "    .dataframe tbody tr th:only-of-type {\n",
       "        vertical-align: middle;\n",
       "    }\n",
       "\n",
       "    .dataframe tbody tr th {\n",
       "        vertical-align: top;\n",
       "    }\n",
       "\n",
       "    .dataframe thead th {\n",
       "        text-align: right;\n",
       "    }\n",
       "</style>\n",
       "<table border=\"1\" class=\"dataframe\">\n",
       "  <thead>\n",
       "    <tr style=\"text-align: right;\">\n",
       "      <th></th>\n",
       "      <th>order_id</th>\n",
       "      <th>seller_id</th>\n",
       "      <th>review_score</th>\n",
       "      <th>review_comment_message</th>\n",
       "    </tr>\n",
       "  </thead>\n",
       "  <tbody>\n",
       "    <tr>\n",
       "      <th>40980</th>\n",
       "      <td>e114923f818130cb74183d70a5d22371</td>\n",
       "      <td>01fdefa7697d26ad920e9e0346d4bd1b</td>\n",
       "      <td>5</td>\n",
       "      <td>Produto recebido antes do prazo e conforme des...</td>\n",
       "    </tr>\n",
       "    <tr>\n",
       "      <th>45240</th>\n",
       "      <td>f8e3cc453fdc62a2a374893143fcbd09</td>\n",
       "      <td>06579cb253ecd5a3a12a9e6eb6bf8f47</td>\n",
       "      <td>5</td>\n",
       "      <td>Otimo</td>\n",
       "    </tr>\n",
       "    <tr>\n",
       "      <th>15133</th>\n",
       "      <td>521e93507df5620aaee015ba441ec756</td>\n",
       "      <td>da8622b14eb17ae2831f4ac5b9dab84a</td>\n",
       "      <td>1</td>\n",
       "      <td>Está faltando uma cortina, só chego o codgo do...</td>\n",
       "    </tr>\n",
       "    <tr>\n",
       "      <th>23529</th>\n",
       "      <td>81643a310d1fa764a5097fa3545d4a90</td>\n",
       "      <td>817245bcc3badd82bbd222e0366951a6</td>\n",
       "      <td>1</td>\n",
       "      <td>preciso receber minha compra e ela nao passa d...</td>\n",
       "    </tr>\n",
       "    <tr>\n",
       "      <th>17894</th>\n",
       "      <td>61b5e6d846c13e8107ec0d264d5abdf1</td>\n",
       "      <td>a5cba26a62b8b4d0145b68b841e62e7f</td>\n",
       "      <td>3</td>\n",
       "      <td>lannister tem nome por isso que gosto de comprar</td>\n",
       "    </tr>\n",
       "  </tbody>\n",
       "</table>\n",
       "</div>"
      ],
      "text/plain": [
       "                               order_id                         seller_id  \\\n",
       "40980  e114923f818130cb74183d70a5d22371  01fdefa7697d26ad920e9e0346d4bd1b   \n",
       "45240  f8e3cc453fdc62a2a374893143fcbd09  06579cb253ecd5a3a12a9e6eb6bf8f47   \n",
       "15133  521e93507df5620aaee015ba441ec756  da8622b14eb17ae2831f4ac5b9dab84a   \n",
       "23529  81643a310d1fa764a5097fa3545d4a90  817245bcc3badd82bbd222e0366951a6   \n",
       "17894  61b5e6d846c13e8107ec0d264d5abdf1  a5cba26a62b8b4d0145b68b841e62e7f   \n",
       "\n",
       "       review_score                             review_comment_message  \n",
       "40980             5  Produto recebido antes do prazo e conforme des...  \n",
       "45240             5                                              Otimo  \n",
       "15133             1  Está faltando uma cortina, só chego o codgo do...  \n",
       "23529             1  preciso receber minha compra e ela nao passa d...  \n",
       "17894             3   lannister tem nome por isso que gosto de comprar  "
      ]
     },
     "execution_count": 55,
     "metadata": {},
     "output_type": "execute_result"
    }
   ],
   "source": [
    "# fazer merge pelo order id com a review\n",
    "seller_reviews = filtered_orders_items.merge(filtered_order_reviews, on='order_id')\n",
    "seller_reviews[['order_id', 'seller_id', 'review_score', 'review_comment_message']].sample(5)"
   ]
  },
  {
   "cell_type": "markdown",
   "id": "32bf3979-e3d7-468c-99dd-f97710994a37",
   "metadata": {},
   "source": [
    "### Número de comentários por seller"
   ]
  },
  {
   "cell_type": "code",
   "execution_count": 56,
   "id": "2bfe2ea1-a0f7-4f4e-9f81-3f4a7f3b98ff",
   "metadata": {},
   "outputs": [
    {
     "data": {
      "text/plain": [
       "count    2533.000000\n",
       "mean       18.369128\n",
       "std        57.574507\n",
       "min         1.000000\n",
       "25%         2.000000\n",
       "50%         4.000000\n",
       "75%        13.000000\n",
       "max       989.000000\n",
       "dtype: float64"
      ]
     },
     "execution_count": 56,
     "metadata": {},
     "output_type": "execute_result"
    }
   ],
   "source": [
    "reviews_per_seller = seller_reviews.value_counts('seller_id')\n",
    "reviews_per_seller.describe()"
   ]
  },
  {
   "cell_type": "code",
   "execution_count": 57,
   "id": "5d177f77-d04f-4b40-8818-0b26f584f262",
   "metadata": {},
   "outputs": [
    {
     "name": "stdout",
     "output_type": "stream",
     "text": [
      "475 sellers com mais de 20 avaliações\n"
     ]
    }
   ],
   "source": [
    "top_sellers = reviews_per_seller[reviews_per_seller>=20]\n",
    "print(f'{len(top_sellers)} sellers com mais de 20 avaliações')"
   ]
  },
  {
   "cell_type": "code",
   "execution_count": 58,
   "id": "088b3b7f-7816-4348-890b-aba60063fbe6",
   "metadata": {},
   "outputs": [],
   "source": [
    "random_seller = top_sellers.sample().index"
   ]
  },
  {
   "cell_type": "code",
   "execution_count": 64,
   "id": "3a000aba-9ddf-4045-bb99-4b76d913bda4",
   "metadata": {},
   "outputs": [
    {
     "name": "stdout",
     "output_type": "stream",
     "text": [
      "seller c8b0e2b0a7095e5d8219575d5e7e1181\n"
     ]
    },
    {
     "data": {
      "text/plain": [
       "array([['O produto é bastante confortavel e bonito ,chegou antes do prazo e muito bem embalado.',\n",
       "        5],\n",
       "       ['Até estão estou amando meu capacete😊', 5],\n",
       "       ['Recomendo a todos podem compra sem medo garantido por mim', 5],\n",
       "       ['Produto entregue antes do prazo! Veio tudo certo!', 5],\n",
       "       ['Não entregaram o pedido', 1],\n",
       "       ['Capacete fantástico. Atendimento melhor ainda. Só tenho a agradecer.',\n",
       "        5],\n",
       "       ['Minha mercadoria chegou antes do prazo e é exelente ', 1],\n",
       "       ['O produto chegou corretamente e dentro do prazo', 5],\n",
       "       ['. Estou chateado com o site. Motivo em que o meu pedido veio diferente do que pedi. E estou com dificuldade para trocar.',\n",
       "        1],\n",
       "       ['Mercadoria não foi entregue, lamentável!!!!!', 1],\n",
       "       ['obrigado,eu recomendo targaryen', 5],\n",
       "       ['prazo de entrega e produto excelente', 5],\n",
       "       ['A ENTREGA FOI RAPIDA MUITO BOM', 4],\n",
       "       ['Produto um pouco fraco, mas atende', 4],\n",
       "       ['Transmissão top aguenta bastante tempo ', 5],\n",
       "       ['O produto deveria ter sido entregue até 21/3 não chegou. Hj é dia 23/3 e até agora não tenho previsão alguma de entrega. Quero retorno sobre como ficará a situação!!!',\n",
       "        1],\n",
       "       ['comprei um capacete Taurus zareef v3 branco número 58 porém me mandaram um kit de pistão para cg 150 erro grosseiro por parte da loja espero que resolvam logo esse problema pois o capacete é presente ',\n",
       "        1],\n",
       "       ['gostei muito de compra com esse vendedor, parabéns, chegou bem antes do esperado.\\r\\nrecomendo',\n",
       "        5],\n",
       "       ['Excelente pra quem anda de moto no frio', 5],\n",
       "       ['O descrição do do produto no site .sobre o tamanho não confere com produto recebido....muito pequena .....',\n",
       "        1],\n",
       "       ['Ótimo produto,veio antes do prazo tudo como eu queria ,recomendo sim.',\n",
       "        5],\n",
       "       [' Comprei um kit de relação de corrente para minha moto achando que lannister.com fosse um Site organizado e confiável. Me dei mal pois depois de ter esgotado o tempo de entrega que o Site quer avalia',\n",
       "        1],\n",
       "       ['Entrega antes do prazo, produto com preço bom e de qualidade. Mais bonito pessoalmente do que nas fotos . ',\n",
       "        5],\n",
       "       ['Produto chegou sem problemas', 5],\n",
       "       ['recomendo! tudo como esperado e dentro do prazo!', 5],\n",
       "       ['ate proxima ', 5],\n",
       "       ['Recebi o produto conforme descrito e antes do previsto !', 5],\n",
       "       ['Tudo Ok, loja de confiança.', 5],\n",
       "       ['muito bom', 5],\n",
       "       ['TUDO OK', 5],\n",
       "       ['Boa tarde, sempre gostei de comprar pelo portal lannister,mais ultimamente tenho tido problemas com a entrega. (area de risco) .por isso peço que reveja na página a opção de retirada na loja.',\n",
       "        3],\n",
       "       ['Tudo ok', 4],\n",
       "       ['Produto ainda não foi entregue, por isso não tenho condições de opiniar.',\n",
       "        1],\n",
       "       ['Produto entregue bem antes do prazo, super recomendo!!!1', 5],\n",
       "       ['Foi entregue apenas 1 e eu comprei 2.\\r\\nConforme nota', 1],\n",
       "       ['Foi entregue apenas 1 e eu comprei 2.\\r\\nConforme nota', 1],\n",
       "       ['Tudo ok , eu recomendo a todos ', 5],\n",
       "       ['Estou muito decepcionado,pois até agora não recebi o meu produto é é já ficando preocupada. \\r\\n\\r\\n',\n",
       "        1],\n",
       "       ['Nota 1000', 5],\n",
       "       ['Entrega super rapida , menos de 10 dias', 5],\n",
       "       ['Vlw fi', 5],\n",
       "       ['Chegou antes do prazo, porém percebi q o zíper da parte menor na primeira vez ele nao abriu o feixe, mas da segunda em diante abriu, caso o feixe abra novamente entro em contato com a loja.',\n",
       "        5],\n",
       "       ['Entrega antes do prazo, não montei ainda, mas aparentemente é bom.',\n",
       "        5],\n",
       "       ['produto entregue na data prevista conforme prazo estipulado.',\n",
       "        3],\n",
       "       ['Gostei do produto. Dei de presente ao meu esposo. Ele adorou. Produto muito bom.',\n",
       "        5],\n",
       "       ['Recebi em perfeito estado, e bem antes do prazo espero q nao de problemas, esta tudo otimo..',\n",
       "        5],\n",
       "       ['A luva é muto boa, vem uma segunda pele para usar por baixo da luva normal, pena que essa segunda pele veio com uma linha saindo bem no meio, se puxar, ela descostura, mas a luva impermeável é ótima! ',\n",
       "        4],\n",
       "       ['Pinhão não serve na fazer 2008 ', 5]], dtype=object)"
      ]
     },
     "execution_count": 64,
     "metadata": {},
     "output_type": "execute_result"
    }
   ],
   "source": [
    "print(f'seller {random_seller.values[0]}')\n",
    "seller_reviews.set_index('seller_id').loc[random_seller][['review_comment_message', 'review_score']].values"
   ]
  }
 ],
 "metadata": {
  "kernelspec": {
   "display_name": "Python 3 (ipykernel)",
   "language": "python",
   "name": "python3"
  },
  "language_info": {
   "codemirror_mode": {
    "name": "ipython",
    "version": 3
   },
   "file_extension": ".py",
   "mimetype": "text/x-python",
   "name": "python",
   "nbconvert_exporter": "python",
   "pygments_lexer": "ipython3",
   "version": "3.8.0"
  }
 },
 "nbformat": 4,
 "nbformat_minor": 5
}
