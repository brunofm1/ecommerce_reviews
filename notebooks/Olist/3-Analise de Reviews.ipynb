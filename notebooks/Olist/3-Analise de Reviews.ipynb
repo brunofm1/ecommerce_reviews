{
 "cells": [
  {
   "cell_type": "code",
   "execution_count": 1,
   "id": "cc3618bb-fb61-4ba6-ba91-7eba311152ee",
   "metadata": {},
   "outputs": [
    {
     "data": {
      "text/plain": [
       "'/Users/brunogutierrez/workspace/tese/Datasets'"
      ]
     },
     "execution_count": 1,
     "metadata": {},
     "output_type": "execute_result"
    }
   ],
   "source": [
    "import os\n",
    "\n",
    "os.chdir('../../Datasets')\n",
    "os.getcwd()"
   ]
  },
  {
   "cell_type": "code",
   "execution_count": 2,
   "id": "735c36f5-9044-4578-a7d9-7ba720512904",
   "metadata": {},
   "outputs": [],
   "source": [
    "# Standard libs\n",
    "import pandas as pd\n",
    "import numpy as np\n",
    "import matplotlib.pyplot as plt\n",
    "from matplotlib import lines\n",
    "\n",
    "from nltk.tokenize import sent_tokenize\n",
    "# import seaborn as sns\n",
    "\n",
    "from IPython.core.interactiveshell import InteractiveShell\n",
    "InteractiveShell.ast_node_interactivity = \"all\""
   ]
  },
  {
   "cell_type": "code",
   "execution_count": 3,
   "id": "d5121cc0-d6e6-4e2b-bf8e-f65f472d72ee",
   "metadata": {},
   "outputs": [],
   "source": [
    "raw_path = os.getcwd() + '/Olist/'\n",
    "order_reviews = pd.read_csv(raw_path + 'olist_order_reviews_dataset.csv')\n",
    "products = pd.read_csv(raw_path + 'olist_products_dataset.csv')\n",
    "orders = pd.read_csv(raw_path + 'olist_orders_dataset.csv')\n",
    "order_items = pd.read_csv(raw_path + 'olist_order_items_dataset.csv')"
   ]
  },
  {
   "cell_type": "code",
   "execution_count": 4,
   "id": "11e69e0f-82c3-4477-9e55-0ace15522955",
   "metadata": {},
   "outputs": [],
   "source": [
    "# Reading all the files\n",
    "# raw_path = os.getcwd() + '/Olist/'\n",
    "# customer = pd.read_csv(raw_path + 'olist_customers_dataset.csv')\n",
    "# geolocation = pd.read_csv(raw_path + 'olist_geolocation_dataset.csv')\n",
    "# order_items = pd.read_csv(raw_path + 'olist_order_items_dataset.csv')\n",
    "# order_payments = pd.read_csv(raw_path + 'olist_order_payments_dataset.csv')\n",
    "# order_reviews = pd.read_csv(raw_path + 'olist_order_reviews_dataset.csv')\n",
    "# products = pd.read_csv(raw_path + 'olist_products_dataset.csv')\n",
    "# sellers = pd.read_csv(raw_path + 'olist_sellers_dataset.csv')"
   ]
  },
  {
   "cell_type": "markdown",
   "id": "cb4c9dbf-216d-4cad-be7c-bc514398a999",
   "metadata": {},
   "source": [
    "### Quantas reviews possuímos?"
   ]
  },
  {
   "cell_type": "code",
   "execution_count": 5,
   "id": "95f84f0c-2ab3-479a-9830-d8e269c5078c",
   "metadata": {},
   "outputs": [
    {
     "data": {
      "text/html": [
       "<div>\n",
       "<style scoped>\n",
       "    .dataframe tbody tr th:only-of-type {\n",
       "        vertical-align: middle;\n",
       "    }\n",
       "\n",
       "    .dataframe tbody tr th {\n",
       "        vertical-align: top;\n",
       "    }\n",
       "\n",
       "    .dataframe thead th {\n",
       "        text-align: right;\n",
       "    }\n",
       "</style>\n",
       "<table border=\"1\" class=\"dataframe\">\n",
       "  <thead>\n",
       "    <tr style=\"text-align: right;\">\n",
       "      <th></th>\n",
       "      <th>review_id</th>\n",
       "      <th>order_id</th>\n",
       "      <th>review_score</th>\n",
       "      <th>review_comment_title</th>\n",
       "      <th>review_comment_message</th>\n",
       "      <th>review_creation_date</th>\n",
       "      <th>review_answer_timestamp</th>\n",
       "    </tr>\n",
       "  </thead>\n",
       "  <tbody>\n",
       "    <tr>\n",
       "      <th>52501</th>\n",
       "      <td>02018114775e6e62168d362ef7650304</td>\n",
       "      <td>8689805b7502503017ca112059637a7f</td>\n",
       "      <td>5</td>\n",
       "      <td>NaN</td>\n",
       "      <td>NaN</td>\n",
       "      <td>2018-01-20 00:00:00</td>\n",
       "      <td>2018-01-23 21:55:39</td>\n",
       "    </tr>\n",
       "  </tbody>\n",
       "</table>\n",
       "</div>"
      ],
      "text/plain": [
       "                              review_id                          order_id  \\\n",
       "52501  02018114775e6e62168d362ef7650304  8689805b7502503017ca112059637a7f   \n",
       "\n",
       "       review_score review_comment_title review_comment_message  \\\n",
       "52501             5                  NaN                    NaN   \n",
       "\n",
       "      review_creation_date review_answer_timestamp  \n",
       "52501  2018-01-20 00:00:00     2018-01-23 21:55:39  "
      ]
     },
     "execution_count": 5,
     "metadata": {},
     "output_type": "execute_result"
    }
   ],
   "source": [
    "order_reviews.sample()"
   ]
  },
  {
   "cell_type": "code",
   "execution_count": 6,
   "id": "fa823879-ee6d-43bf-872a-d3be81dee901",
   "metadata": {},
   "outputs": [
    {
     "data": {
      "text/html": [
       "<div>\n",
       "<style scoped>\n",
       "    .dataframe tbody tr th:only-of-type {\n",
       "        vertical-align: middle;\n",
       "    }\n",
       "\n",
       "    .dataframe tbody tr th {\n",
       "        vertical-align: top;\n",
       "    }\n",
       "\n",
       "    .dataframe thead th {\n",
       "        text-align: right;\n",
       "    }\n",
       "</style>\n",
       "<table border=\"1\" class=\"dataframe\">\n",
       "  <thead>\n",
       "    <tr style=\"text-align: right;\">\n",
       "      <th></th>\n",
       "      <th>review_score</th>\n",
       "    </tr>\n",
       "  </thead>\n",
       "  <tbody>\n",
       "    <tr>\n",
       "      <th>count</th>\n",
       "      <td>100000.000000</td>\n",
       "    </tr>\n",
       "    <tr>\n",
       "      <th>mean</th>\n",
       "      <td>4.070890</td>\n",
       "    </tr>\n",
       "    <tr>\n",
       "      <th>std</th>\n",
       "      <td>1.359663</td>\n",
       "    </tr>\n",
       "    <tr>\n",
       "      <th>min</th>\n",
       "      <td>1.000000</td>\n",
       "    </tr>\n",
       "    <tr>\n",
       "      <th>25%</th>\n",
       "      <td>4.000000</td>\n",
       "    </tr>\n",
       "    <tr>\n",
       "      <th>50%</th>\n",
       "      <td>5.000000</td>\n",
       "    </tr>\n",
       "    <tr>\n",
       "      <th>75%</th>\n",
       "      <td>5.000000</td>\n",
       "    </tr>\n",
       "    <tr>\n",
       "      <th>max</th>\n",
       "      <td>5.000000</td>\n",
       "    </tr>\n",
       "  </tbody>\n",
       "</table>\n",
       "</div>"
      ],
      "text/plain": [
       "        review_score\n",
       "count  100000.000000\n",
       "mean        4.070890\n",
       "std         1.359663\n",
       "min         1.000000\n",
       "25%         4.000000\n",
       "50%         5.000000\n",
       "75%         5.000000\n",
       "max         5.000000"
      ]
     },
     "execution_count": 6,
     "metadata": {},
     "output_type": "execute_result"
    },
    {
     "data": {
      "text/plain": [
       "review_comment_title      88285\n",
       "review_comment_message    58247\n",
       "dtype: int64"
      ]
     },
     "execution_count": 6,
     "metadata": {},
     "output_type": "execute_result"
    }
   ],
   "source": [
    "order_reviews[['review_score']].describe()\n",
    "# A maioria possui valor NA\n",
    "order_reviews[['review_comment_title', 'review_comment_message']].isna().sum()"
   ]
  },
  {
   "cell_type": "code",
   "execution_count": 7,
   "id": "1cbb9ef1-275b-4c55-ba26-0f7009ce6c0d",
   "metadata": {},
   "outputs": [
    {
     "data": {
      "text/html": [
       "<div>\n",
       "<style scoped>\n",
       "    .dataframe tbody tr th:only-of-type {\n",
       "        vertical-align: middle;\n",
       "    }\n",
       "\n",
       "    .dataframe tbody tr th {\n",
       "        vertical-align: top;\n",
       "    }\n",
       "\n",
       "    .dataframe thead th {\n",
       "        text-align: right;\n",
       "    }\n",
       "</style>\n",
       "<table border=\"1\" class=\"dataframe\">\n",
       "  <thead>\n",
       "    <tr style=\"text-align: right;\">\n",
       "      <th></th>\n",
       "      <th>review_comment_title</th>\n",
       "      <th>review_comment_message</th>\n",
       "    </tr>\n",
       "  </thead>\n",
       "  <tbody>\n",
       "    <tr>\n",
       "      <th>5174</th>\n",
       "      <td>PESSIMO</td>\n",
       "      <td>Paguei por um frete onde os prazos não foram s...</td>\n",
       "    </tr>\n",
       "  </tbody>\n",
       "</table>\n",
       "</div>"
      ],
      "text/plain": [
       "     review_comment_title                             review_comment_message\n",
       "5174              PESSIMO  Paguei por um frete onde os prazos não foram s..."
      ]
     },
     "execution_count": 7,
     "metadata": {},
     "output_type": "execute_result"
    }
   ],
   "source": [
    "order_reviews[['review_comment_title', 'review_comment_message']].sample()"
   ]
  },
  {
   "cell_type": "code",
   "execution_count": 8,
   "id": "a96f7a2f-663f-4ed5-b31a-625eecc3e3ef",
   "metadata": {},
   "outputs": [],
   "source": [
    "# Contar letras"
   ]
  },
  {
   "cell_type": "code",
   "execution_count": 9,
   "id": "18902f5f-6de5-480e-8a7e-47168afb4b6e",
   "metadata": {},
   "outputs": [],
   "source": [
    "def count_char(text):\n",
    "    return len(text) if isinstance(text, str) else 0"
   ]
  },
  {
   "cell_type": "code",
   "execution_count": 10,
   "id": "138dd41e-6943-41a2-8819-ed03dfc0fbf3",
   "metadata": {},
   "outputs": [
    {
     "data": {
      "text/plain": [
       "count    100000.000000\n",
       "mean          1.405100\n",
       "std           4.426203\n",
       "min           0.000000\n",
       "25%           0.000000\n",
       "50%           0.000000\n",
       "75%           0.000000\n",
       "max          26.000000\n",
       "Name: n_char_title, dtype: float64"
      ]
     },
     "execution_count": 10,
     "metadata": {},
     "output_type": "execute_result"
    },
    {
     "data": {
      "text/plain": [
       "count    100000.000000\n",
       "mean         29.243230\n",
       "std          49.455495\n",
       "min           0.000000\n",
       "25%           0.000000\n",
       "50%           0.000000\n",
       "75%          43.000000\n",
       "max         208.000000\n",
       "Name: n_char_text, dtype: float64"
      ]
     },
     "execution_count": 10,
     "metadata": {},
     "output_type": "execute_result"
    }
   ],
   "source": [
    "order_reviews['n_char_title'] = order_reviews['review_comment_title'].apply(count_char)\n",
    "order_reviews['n_char_text'] = order_reviews['review_comment_message'].apply(count_char)\n",
    "\n",
    "\n",
    "order_reviews['n_char_title'].describe()\n",
    "order_reviews['n_char_text'].describe()"
   ]
  },
  {
   "cell_type": "code",
   "execution_count": 11,
   "id": "c819571d-ec87-471e-bc31-5145f381a649",
   "metadata": {},
   "outputs": [],
   "source": [
    "# contar frases e palavras"
   ]
  },
  {
   "cell_type": "code",
   "execution_count": 27,
   "id": "02d303b1-3fda-455e-98db-4eb2806765c8",
   "metadata": {},
   "outputs": [],
   "source": [
    "def count_phrases(text):\n",
    "    if type(text) == str:\n",
    "        return len(sent_tokenize(text, language='portuguese'))\n",
    "    return 0\n",
    "\n",
    "def words_count(x):\n",
    "    if type(x)==str:\n",
    "        return len(x.split())\n",
    "    else:\n",
    "        return np.nan"
   ]
  },
  {
   "cell_type": "code",
   "execution_count": 13,
   "id": "f58d6de8-b736-411d-80d9-64b598227e2e",
   "metadata": {},
   "outputs": [
    {
     "data": {
      "text/plain": [
       "count    41726.000000\n",
       "mean         1.427959\n",
       "std          0.791097\n",
       "min          1.000000\n",
       "25%          1.000000\n",
       "50%          1.000000\n",
       "75%          2.000000\n",
       "max         32.000000\n",
       "Name: n_sentences, dtype: float64"
      ]
     },
     "execution_count": 13,
     "metadata": {},
     "output_type": "execute_result"
    }
   ],
   "source": [
    "order_reviews['n_sentences'] = order_reviews['review_comment_message'].apply(count_phrases)\n",
    "order_reviews[order_reviews['n_sentences']>0]['n_sentences'].describe()"
   ]
  },
  {
   "cell_type": "code",
   "execution_count": null,
   "id": "e57164cd-f21f-453f-aa85-dbbd38891fbc",
   "metadata": {},
   "outputs": [],
   "source": []
  },
  {
   "cell_type": "markdown",
   "id": "5886975e-06fa-4fbe-a47b-c9088ead4032",
   "metadata": {},
   "source": [
    "### Dropar linhas sem reviews"
   ]
  },
  {
   "cell_type": "code",
   "execution_count": 14,
   "id": "d59f2378-d39f-458a-8d86-ef2c1c9763a6",
   "metadata": {},
   "outputs": [
    {
     "data": {
      "text/plain": [
       "(41753, 10)"
      ]
     },
     "execution_count": 14,
     "metadata": {},
     "output_type": "execute_result"
    }
   ],
   "source": [
    "# número de reviews\n",
    "# order_reviews = order_reviews.dropna(subset=['review_comment_title', 'review_comment_message'], how='all')\n",
    "order_reviews = order_reviews.dropna(subset=['review_comment_message'])\n",
    "order_reviews.shape\n",
    "# order_reviews['full_review'] = order_reviews['review_comment_title'] + '.' + order_reviews['review_comment_message']"
   ]
  },
  {
   "cell_type": "markdown",
   "id": "52b7e1f2-316d-491e-8cdc-d5afbd73bd4d",
   "metadata": {},
   "source": [
    "### Número de frases por Review"
   ]
  },
  {
   "cell_type": "code",
   "execution_count": 15,
   "id": "9c1f8c5d-0b27-4e8e-b27a-5dcc22f76a59",
   "metadata": {},
   "outputs": [
    {
     "data": {
      "text/plain": [
       "count    41753.000000\n",
       "mean         1.427035\n",
       "std          0.791674\n",
       "min          0.000000\n",
       "25%          1.000000\n",
       "50%          1.000000\n",
       "75%          2.000000\n",
       "max         32.000000\n",
       "Name: n_sentences, dtype: float64"
      ]
     },
     "execution_count": 15,
     "metadata": {},
     "output_type": "execute_result"
    }
   ],
   "source": [
    "order_reviews['n_sentences'] = order_reviews['review_comment_message'].apply(count_phrases)\n",
    "order_reviews['n_sentences'].describe()"
   ]
  },
  {
   "cell_type": "markdown",
   "id": "28fa575b-d101-43a4-9602-db2dad110efe",
   "metadata": {},
   "source": [
    "### Palavras por Review"
   ]
  },
  {
   "cell_type": "code",
   "execution_count": 28,
   "id": "e70d2257-adef-4f27-947d-6238182f562e",
   "metadata": {},
   "outputs": [
    {
     "data": {
      "text/plain": [
       "count    41753.000000\n",
       "mean        11.913419\n",
       "std          9.704207\n",
       "min          0.000000\n",
       "25%          5.000000\n",
       "50%          9.000000\n",
       "75%         17.000000\n",
       "max         45.000000\n",
       "Name: n_words, dtype: float64"
      ]
     },
     "execution_count": 28,
     "metadata": {},
     "output_type": "execute_result"
    }
   ],
   "source": [
    "order_reviews['n_words'] = order_reviews['review_comment_message'].apply(words_count)\n",
    "order_reviews['n_words'].describe()"
   ]
  },
  {
   "cell_type": "code",
   "execution_count": 16,
   "id": "4457fca9-067b-42fa-ad63-85c3106bc440",
   "metadata": {},
   "outputs": [
    {
     "data": {
      "text/plain": [
       "41606"
      ]
     },
     "execution_count": 16,
     "metadata": {},
     "output_type": "execute_result"
    }
   ],
   "source": [
    "# número de pedidos diferentes com review\n",
    "order_reviews['order_id'].nunique()"
   ]
  },
  {
   "cell_type": "code",
   "execution_count": null,
   "id": "5eea9585-28c5-49d8-af57-16d4a13b3093",
   "metadata": {},
   "outputs": [],
   "source": []
  },
  {
   "cell_type": "markdown",
   "id": "5a0cd932-20a5-489a-b3eb-96a8ed4fbc76",
   "metadata": {},
   "source": [
    "Juntar Review e produtos\n",
    "\n",
    "Temos o id do pedido. Ver quais produtos estão inseridos no pedido."
   ]
  },
  {
   "cell_type": "code",
   "execution_count": 17,
   "id": "644db64c-abf1-45f1-ba63-ea649195f9f7",
   "metadata": {},
   "outputs": [],
   "source": [
    "# Ver categorias dos produtos"
   ]
  },
  {
   "cell_type": "code",
   "execution_count": 18,
   "id": "bed06b88-4b89-4ab0-a2f1-6cdc47f02f6f",
   "metadata": {},
   "outputs": [
    {
     "data": {
      "text/html": [
       "<div>\n",
       "<style scoped>\n",
       "    .dataframe tbody tr th:only-of-type {\n",
       "        vertical-align: middle;\n",
       "    }\n",
       "\n",
       "    .dataframe tbody tr th {\n",
       "        vertical-align: top;\n",
       "    }\n",
       "\n",
       "    .dataframe thead th {\n",
       "        text-align: right;\n",
       "    }\n",
       "</style>\n",
       "<table border=\"1\" class=\"dataframe\">\n",
       "  <thead>\n",
       "    <tr style=\"text-align: right;\">\n",
       "      <th></th>\n",
       "      <th>product_id</th>\n",
       "      <th>product_category_name</th>\n",
       "      <th>product_name_lenght</th>\n",
       "      <th>product_description_lenght</th>\n",
       "      <th>product_photos_qty</th>\n",
       "      <th>product_weight_g</th>\n",
       "      <th>product_length_cm</th>\n",
       "      <th>product_height_cm</th>\n",
       "      <th>product_width_cm</th>\n",
       "    </tr>\n",
       "  </thead>\n",
       "  <tbody>\n",
       "    <tr>\n",
       "      <th>21885</th>\n",
       "      <td>f2c6bb3c72a67ac37f14bae1faddcf40</td>\n",
       "      <td>beleza_saude</td>\n",
       "      <td>52.0</td>\n",
       "      <td>676.0</td>\n",
       "      <td>1.0</td>\n",
       "      <td>350.0</td>\n",
       "      <td>30.0</td>\n",
       "      <td>12.0</td>\n",
       "      <td>16.0</td>\n",
       "    </tr>\n",
       "  </tbody>\n",
       "</table>\n",
       "</div>"
      ],
      "text/plain": [
       "                             product_id product_category_name  \\\n",
       "21885  f2c6bb3c72a67ac37f14bae1faddcf40          beleza_saude   \n",
       "\n",
       "       product_name_lenght  product_description_lenght  product_photos_qty  \\\n",
       "21885                 52.0                       676.0                 1.0   \n",
       "\n",
       "       product_weight_g  product_length_cm  product_height_cm  \\\n",
       "21885             350.0               30.0               12.0   \n",
       "\n",
       "       product_width_cm  \n",
       "21885              16.0  "
      ]
     },
     "execution_count": 18,
     "metadata": {},
     "output_type": "execute_result"
    }
   ],
   "source": [
    "products.sample()"
   ]
  },
  {
   "cell_type": "code",
   "execution_count": 19,
   "id": "21f99cfe-b203-44da-98a0-93dc175107a7",
   "metadata": {},
   "outputs": [
    {
     "data": {
      "text/plain": [
       "cama_mesa_banho                3029\n",
       "esporte_lazer                  2867\n",
       "moveis_decoracao               2657\n",
       "beleza_saude                   2444\n",
       "utilidades_domesticas          2335\n",
       "automotivo                     1900\n",
       "informatica_acessorios         1639\n",
       "brinquedos                     1411\n",
       "relogios_presentes             1329\n",
       "telefonia                      1134\n",
       "bebes                           919\n",
       "perfumaria                      868\n",
       "papelaria                       849\n",
       "fashion_bolsas_e_acessorios     849\n",
       "cool_stuff                      789\n",
       "Name: product_category_name, dtype: int64"
      ]
     },
     "execution_count": 19,
     "metadata": {},
     "output_type": "execute_result"
    }
   ],
   "source": [
    "products['product_category_name'].value_counts().head(15)"
   ]
  },
  {
   "cell_type": "code",
   "execution_count": 20,
   "id": "1b23de9e-2f57-4bb3-b4fd-30ed0a1b4b20",
   "metadata": {},
   "outputs": [
    {
     "data": {
      "text/plain": [
       "array(['perfumaria', 'artes', 'esporte_lazer', 'bebes',\n",
       "       'utilidades_domesticas', 'instrumentos_musicais', 'cool_stuff',\n",
       "       'moveis_decoracao', 'eletrodomesticos', 'brinquedos',\n",
       "       'cama_mesa_banho', 'construcao_ferramentas_seguranca',\n",
       "       'informatica_acessorios', 'beleza_saude', 'malas_acessorios',\n",
       "       'ferramentas_jardim', 'moveis_escritorio', 'automotivo',\n",
       "       'eletronicos', 'fashion_calcados', 'telefonia', 'papelaria',\n",
       "       'fashion_bolsas_e_acessorios', 'pcs', 'casa_construcao',\n",
       "       'relogios_presentes', 'construcao_ferramentas_construcao',\n",
       "       'pet_shop', 'eletroportateis', 'agro_industria_e_comercio', nan,\n",
       "       'moveis_sala', 'sinalizacao_e_seguranca', 'climatizacao',\n",
       "       'consoles_games', 'livros_interesse_geral',\n",
       "       'construcao_ferramentas_ferramentas',\n",
       "       'fashion_underwear_e_moda_praia', 'fashion_roupa_masculina',\n",
       "       'moveis_cozinha_area_de_servico_jantar_e_jardim',\n",
       "       'industria_comercio_e_negocios', 'telefonia_fixa',\n",
       "       'construcao_ferramentas_iluminacao', 'livros_tecnicos',\n",
       "       'eletrodomesticos_2', 'artigos_de_festas', 'bebidas',\n",
       "       'market_place', 'la_cuisine', 'construcao_ferramentas_jardim',\n",
       "       'fashion_roupa_feminina', 'casa_conforto', 'audio',\n",
       "       'alimentos_bebidas', 'musica', 'alimentos',\n",
       "       'tablets_impressao_imagem', 'livros_importados',\n",
       "       'portateis_casa_forno_e_cafe', 'fashion_esporte',\n",
       "       'artigos_de_natal', 'fashion_roupa_infanto_juvenil',\n",
       "       'dvds_blu_ray', 'artes_e_artesanato', 'pc_gamer', 'moveis_quarto',\n",
       "       'cine_foto', 'fraldas_higiene', 'flores', 'casa_conforto_2',\n",
       "       'portateis_cozinha_e_preparadores_de_alimentos',\n",
       "       'seguros_e_servicos', 'moveis_colchao_e_estofado',\n",
       "       'cds_dvds_musicais'], dtype=object)"
      ]
     },
     "execution_count": 20,
     "metadata": {},
     "output_type": "execute_result"
    }
   ],
   "source": [
    "products['product_category_name'].unique()"
   ]
  },
  {
   "cell_type": "markdown",
   "id": "0f739b41-1ee3-4562-9bcf-7a26be607249",
   "metadata": {},
   "source": [
    "# Merge dataset reviews - order_items - products "
   ]
  },
  {
   "cell_type": "code",
   "execution_count": 21,
   "id": "e9befa36-cef6-44a2-ad02-9fe7a0939dfd",
   "metadata": {},
   "outputs": [
    {
     "data": {
      "text/html": [
       "<div>\n",
       "<style scoped>\n",
       "    .dataframe tbody tr th:only-of-type {\n",
       "        vertical-align: middle;\n",
       "    }\n",
       "\n",
       "    .dataframe tbody tr th {\n",
       "        vertical-align: top;\n",
       "    }\n",
       "\n",
       "    .dataframe thead th {\n",
       "        text-align: right;\n",
       "    }\n",
       "</style>\n",
       "<table border=\"1\" class=\"dataframe\">\n",
       "  <thead>\n",
       "    <tr style=\"text-align: right;\">\n",
       "      <th></th>\n",
       "      <th>review_id</th>\n",
       "      <th>order_id</th>\n",
       "      <th>review_score</th>\n",
       "      <th>review_comment_title</th>\n",
       "      <th>review_comment_message</th>\n",
       "      <th>review_creation_date</th>\n",
       "      <th>review_answer_timestamp</th>\n",
       "      <th>n_char_title</th>\n",
       "      <th>n_char_text</th>\n",
       "      <th>n_sentences</th>\n",
       "    </tr>\n",
       "  </thead>\n",
       "  <tbody>\n",
       "    <tr>\n",
       "      <th>70648</th>\n",
       "      <td>1e4f2c4cd5c91c873c1a035c8b7ab0ee</td>\n",
       "      <td>b40456ac26df93f73f7cac7e9d87de5a</td>\n",
       "      <td>4</td>\n",
       "      <td>NaN</td>\n",
       "      <td>Faltou o fundo da lixeira, o resto veio tudo c...</td>\n",
       "      <td>2017-07-15 00:00:00</td>\n",
       "      <td>2017-07-18 18:24:24</td>\n",
       "      <td>0</td>\n",
       "      <td>51</td>\n",
       "      <td>1</td>\n",
       "    </tr>\n",
       "  </tbody>\n",
       "</table>\n",
       "</div>"
      ],
      "text/plain": [
       "                              review_id                          order_id  \\\n",
       "70648  1e4f2c4cd5c91c873c1a035c8b7ab0ee  b40456ac26df93f73f7cac7e9d87de5a   \n",
       "\n",
       "       review_score review_comment_title  \\\n",
       "70648             4                  NaN   \n",
       "\n",
       "                                  review_comment_message review_creation_date  \\\n",
       "70648  Faltou o fundo da lixeira, o resto veio tudo c...  2017-07-15 00:00:00   \n",
       "\n",
       "      review_answer_timestamp  n_char_title  n_char_text  n_sentences  \n",
       "70648     2017-07-18 18:24:24             0           51            1  "
      ]
     },
     "execution_count": 21,
     "metadata": {},
     "output_type": "execute_result"
    },
    {
     "data": {
      "text/html": [
       "<div>\n",
       "<style scoped>\n",
       "    .dataframe tbody tr th:only-of-type {\n",
       "        vertical-align: middle;\n",
       "    }\n",
       "\n",
       "    .dataframe tbody tr th {\n",
       "        vertical-align: top;\n",
       "    }\n",
       "\n",
       "    .dataframe thead th {\n",
       "        text-align: right;\n",
       "    }\n",
       "</style>\n",
       "<table border=\"1\" class=\"dataframe\">\n",
       "  <thead>\n",
       "    <tr style=\"text-align: right;\">\n",
       "      <th></th>\n",
       "      <th>order_id</th>\n",
       "      <th>order_item_id</th>\n",
       "      <th>product_id</th>\n",
       "      <th>seller_id</th>\n",
       "      <th>shipping_limit_date</th>\n",
       "      <th>price</th>\n",
       "      <th>freight_value</th>\n",
       "    </tr>\n",
       "  </thead>\n",
       "  <tbody>\n",
       "    <tr>\n",
       "      <th>102112</th>\n",
       "      <td>e7c5ccfc34c262f8f9240ade57e01ed7</td>\n",
       "      <td>1</td>\n",
       "      <td>48465725d322101bdadd1d1a5acd8480</td>\n",
       "      <td>980640c45d7a4635885491d077167e4d</td>\n",
       "      <td>2018-08-08 12:50:11</td>\n",
       "      <td>94.99</td>\n",
       "      <td>18.77</td>\n",
       "    </tr>\n",
       "  </tbody>\n",
       "</table>\n",
       "</div>"
      ],
      "text/plain": [
       "                                order_id  order_item_id  \\\n",
       "102112  e7c5ccfc34c262f8f9240ade57e01ed7              1   \n",
       "\n",
       "                              product_id                         seller_id  \\\n",
       "102112  48465725d322101bdadd1d1a5acd8480  980640c45d7a4635885491d077167e4d   \n",
       "\n",
       "        shipping_limit_date  price  freight_value  \n",
       "102112  2018-08-08 12:50:11  94.99          18.77  "
      ]
     },
     "execution_count": 21,
     "metadata": {},
     "output_type": "execute_result"
    },
    {
     "data": {
      "text/html": [
       "<div>\n",
       "<style scoped>\n",
       "    .dataframe tbody tr th:only-of-type {\n",
       "        vertical-align: middle;\n",
       "    }\n",
       "\n",
       "    .dataframe tbody tr th {\n",
       "        vertical-align: top;\n",
       "    }\n",
       "\n",
       "    .dataframe thead th {\n",
       "        text-align: right;\n",
       "    }\n",
       "</style>\n",
       "<table border=\"1\" class=\"dataframe\">\n",
       "  <thead>\n",
       "    <tr style=\"text-align: right;\">\n",
       "      <th></th>\n",
       "      <th>product_id</th>\n",
       "      <th>product_category_name</th>\n",
       "      <th>product_name_lenght</th>\n",
       "      <th>product_description_lenght</th>\n",
       "      <th>product_photos_qty</th>\n",
       "      <th>product_weight_g</th>\n",
       "      <th>product_length_cm</th>\n",
       "      <th>product_height_cm</th>\n",
       "      <th>product_width_cm</th>\n",
       "    </tr>\n",
       "  </thead>\n",
       "  <tbody>\n",
       "    <tr>\n",
       "      <th>7484</th>\n",
       "      <td>873417a13086036760bd9528d4d13d27</td>\n",
       "      <td>casa_conforto</td>\n",
       "      <td>41.0</td>\n",
       "      <td>529.0</td>\n",
       "      <td>1.0</td>\n",
       "      <td>800.0</td>\n",
       "      <td>20.0</td>\n",
       "      <td>20.0</td>\n",
       "      <td>20.0</td>\n",
       "    </tr>\n",
       "  </tbody>\n",
       "</table>\n",
       "</div>"
      ],
      "text/plain": [
       "                            product_id product_category_name  \\\n",
       "7484  873417a13086036760bd9528d4d13d27         casa_conforto   \n",
       "\n",
       "      product_name_lenght  product_description_lenght  product_photos_qty  \\\n",
       "7484                 41.0                       529.0                 1.0   \n",
       "\n",
       "      product_weight_g  product_length_cm  product_height_cm  product_width_cm  \n",
       "7484             800.0               20.0               20.0              20.0  "
      ]
     },
     "execution_count": 21,
     "metadata": {},
     "output_type": "execute_result"
    }
   ],
   "source": [
    "order_reviews.sample()\n",
    "order_items.sample()\n",
    "products.sample()"
   ]
  },
  {
   "cell_type": "code",
   "execution_count": 22,
   "id": "67732c48-6a40-4abb-9106-e28e5ccdec87",
   "metadata": {},
   "outputs": [
    {
     "data": {
      "text/plain": [
       "(41753, 10)"
      ]
     },
     "execution_count": 22,
     "metadata": {},
     "output_type": "execute_result"
    },
    {
     "data": {
      "text/plain": [
       "41606"
      ]
     },
     "execution_count": 22,
     "metadata": {},
     "output_type": "execute_result"
    },
    {
     "data": {
      "text/plain": [
       "(112650, 7)"
      ]
     },
     "execution_count": 22,
     "metadata": {},
     "output_type": "execute_result"
    },
    {
     "data": {
      "text/plain": [
       "98666"
      ]
     },
     "execution_count": 22,
     "metadata": {},
     "output_type": "execute_result"
    }
   ],
   "source": [
    "order_reviews.shape\n",
    "order_reviews['order_id'].nunique()\n",
    "\n",
    "# em order items há repetição do order_id no caso de pedidos com mais de \n",
    "# um pedido\n",
    "order_items.shape\n",
    "order_items['order_id'].nunique()"
   ]
  },
  {
   "cell_type": "code",
   "execution_count": 23,
   "id": "0fd5225c-db6d-4a7b-adb6-35e05c1d0b02",
   "metadata": {},
   "outputs": [
    {
     "data": {
      "text/plain": [
       "19168"
      ]
     },
     "execution_count": 23,
     "metadata": {},
     "output_type": "execute_result"
    }
   ],
   "source": [
    "reviews_product = order_reviews.merge(order_items[['order_id', 'product_id']], on='order_id', how='left')\n",
    "reviews_product['product_id'].nunique()"
   ]
  },
  {
   "cell_type": "code",
   "execution_count": 24,
   "id": "76bee1f8-c986-4d1d-9aab-e53aeaddc971",
   "metadata": {},
   "outputs": [
    {
     "data": {
      "text/plain": [
       "(49135, 11)"
      ]
     },
     "execution_count": 24,
     "metadata": {},
     "output_type": "execute_result"
    },
    {
     "data": {
      "text/plain": [
       "(49135, 12)"
      ]
     },
     "execution_count": 24,
     "metadata": {},
     "output_type": "execute_result"
    }
   ],
   "source": [
    "# categoria do produto\n",
    "reviews_product.shape\n",
    "reviews_product = reviews_product.merge(products[['product_id', 'product_category_name']], on='product_id', how='left')\n",
    "reviews_product.shape"
   ]
  },
  {
   "cell_type": "code",
   "execution_count": 25,
   "id": "d488a421-1533-4cca-87dd-6b0371ceef25",
   "metadata": {},
   "outputs": [
    {
     "data": {
      "text/plain": [
       "cama_mesa_banho                  5377\n",
       "beleza_saude                     3834\n",
       "moveis_decoracao                 3663\n",
       "esporte_lazer                    3499\n",
       "informatica_acessorios           3336\n",
       "                                 ... \n",
       "fashion_esporte                     7\n",
       "cds_dvds_musicais                   5\n",
       "pc_gamer                            2\n",
       "seguros_e_servicos                  2\n",
       "fashion_roupa_infanto_juvenil       1\n",
       "Name: product_category_name, Length: 73, dtype: int64"
      ]
     },
     "execution_count": 25,
     "metadata": {},
     "output_type": "execute_result"
    }
   ],
   "source": [
    "reviews_product['product_category_name'].value_counts()"
   ]
  },
  {
   "cell_type": "code",
   "execution_count": null,
   "id": "996f218c-41a0-4994-a347-0e8c80d64b1b",
   "metadata": {},
   "outputs": [],
   "source": []
  },
  {
   "cell_type": "code",
   "execution_count": null,
   "id": "30b7e0c6-22f8-40fd-9508-dc11d40f174f",
   "metadata": {},
   "outputs": [],
   "source": []
  }
 ],
 "metadata": {
  "kernelspec": {
   "display_name": "Python 3 (ipykernel)",
   "language": "python",
   "name": "python3"
  },
  "language_info": {
   "codemirror_mode": {
    "name": "ipython",
    "version": 3
   },
   "file_extension": ".py",
   "mimetype": "text/x-python",
   "name": "python",
   "nbconvert_exporter": "python",
   "pygments_lexer": "ipython3",
   "version": "3.8.0"
  }
 },
 "nbformat": 4,
 "nbformat_minor": 5
}
